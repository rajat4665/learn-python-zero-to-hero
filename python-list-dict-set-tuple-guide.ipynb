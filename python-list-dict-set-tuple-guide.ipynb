{
 "cells": [
  {
   "cell_type": "markdown",
   "id": "6f4b2ce0-3943-4aa1-a29b-d3c3047c3cba",
   "metadata": {},
   "source": [
    "## 🔢 1️⃣ List – Ordered, Mutable Collection\n",
    "\n",
    "### 🧾 Definition:\n",
    "A **list** in Python is a built-in data structure used to store an **ordered sequence of items**. You can think of it like a dynamic array that:\n",
    "\n",
    "- ✅ Maintains **insertion order**\n",
    "- ✅ Allows **duplicate values**\n",
    "- ✅ Can store **mixed data types**\n",
    "- ✅ Is **mutable** — meaning you can change, add, or remove elements"
   ]
  },
  {
   "cell_type": "markdown",
   "id": "da57a7e3-5c9b-4937-b6e4-5fd64c89fae7",
   "metadata": {},
   "source": [
    "## 📌 How to Define a List"
   ]
  },
  {
   "cell_type": "code",
   "execution_count": 4,
   "id": "f6cb9855-2baf-4f2e-96b7-e203261bda8c",
   "metadata": {},
   "outputs": [],
   "source": [
    "# The list is enclosed in square brackets []\n",
    "# Each item is separated by a comma\n",
    "\n",
    "fruits = [\"apple\", \"banana\", \"cherry\"]\n",
    "\n",
    "# This list contains three string elements\n"
   ]
  },
  {
   "cell_type": "markdown",
   "id": "1581ca71-7dba-41d5-98ba-5cb56cfc07ba",
   "metadata": {},
   "source": [
    "## 🎯 Accessing Elements by Index\n"
   ]
  },
  {
   "cell_type": "code",
   "execution_count": 5,
   "id": "725ccc3f-f976-4839-bffb-3e529fbad1f6",
   "metadata": {},
   "outputs": [
    {
     "name": "stdout",
     "output_type": "stream",
     "text": [
      "apple\n",
      "cherry\n"
     ]
    }
   ],
   "source": [
    "print(fruits[0])  # Output: apple\n",
    "print(fruits[2])  # Output: cherry\n"
   ]
  },
  {
   "cell_type": "markdown",
   "id": "c09fa11d-c8f9-4ec8-9662-a161de8f40a4",
   "metadata": {},
   "source": [
    "### 🛠️ Modifying Lists (Mutability)\n"
   ]
  },
  {
   "cell_type": "code",
   "execution_count": 6,
   "id": "f1629ede-395d-4433-924b-fa93eb99dcf4",
   "metadata": {},
   "outputs": [
    {
     "name": "stdout",
     "output_type": "stream",
     "text": [
      "['apple', 'blueberry', 'cherry']\n"
     ]
    }
   ],
   "source": [
    "fruits[1] = \"blueberry\"\n",
    "print(fruits)  # ['apple', 'blueberry', 'cherry']\n"
   ]
  },
  {
   "cell_type": "markdown",
   "id": "bdbae907-34a7-44ec-b499-44a00c1360d8",
   "metadata": {},
   "source": [
    "## ➕ Adding Elements"
   ]
  },
  {
   "cell_type": "code",
   "execution_count": 7,
   "id": "923ee501-d284-4f75-905c-9b721af94b61",
   "metadata": {},
   "outputs": [
    {
     "name": "stdout",
     "output_type": "stream",
     "text": [
      "['apple', 'blueberry', 'cherry', 'orange']\n"
     ]
    }
   ],
   "source": [
    "# append() – Add a single item to the end\n",
    "\n",
    "fruits.append(\"orange\")\n",
    "print(fruits)  # ['apple', 'blueberry', 'cherry', 'orange']\n"
   ]
  },
  {
   "cell_type": "code",
   "execution_count": 8,
   "id": "022bcbe4-eaeb-4aa4-8c46-2497635701df",
   "metadata": {},
   "outputs": [
    {
     "name": "stdout",
     "output_type": "stream",
     "text": [
      "['apple', 'grape', 'blueberry', 'cherry', 'orange']\n"
     ]
    }
   ],
   "source": [
    "# insert() – Add an item at a specific index\n",
    "fruits.insert(1, \"grape\")\n",
    "print(fruits)  # ['apple', 'grape', 'blueberry', 'cherry', 'orange']\n"
   ]
  },
  {
   "cell_type": "markdown",
   "id": "ecfabaa1-b1c1-410e-afe3-bfaa95b09c29",
   "metadata": {},
   "source": [
    "## ➖ Removing Elements\n"
   ]
  },
  {
   "cell_type": "code",
   "execution_count": 11,
   "id": "dccaf8e9-0bb3-43fc-9673-de56cf134797",
   "metadata": {},
   "outputs": [
    {
     "name": "stdout",
     "output_type": "stream",
     "text": [
      "['apple', 'grape', 'blueberry', 'orange']\n"
     ]
    }
   ],
   "source": [
    "# remove() – Removes first occurrence of a value\n",
    "fruits.remove(\"cherry\")\n",
    "print(fruits)  # ['apple', 'grape', 'blueberry', 'orange']\n"
   ]
  },
  {
   "cell_type": "code",
   "execution_count": 13,
   "id": "4a332836-45a8-4ccf-9c4a-de04151ee374",
   "metadata": {},
   "outputs": [
    {
     "name": "stdout",
     "output_type": "stream",
     "text": [
      "['apple', 'grape', 'blueberry']\n"
     ]
    }
   ],
   "source": [
    "# pop() – Removes by index (default last item)\n",
    "fruits.pop()       # Removes 'orange'\n",
    "print(fruits)      # ['apple', 'grape', 'blueberry']\n"
   ]
  },
  {
   "cell_type": "markdown",
   "id": "89e03b56-7874-4884-b536-7fc1270cc301",
   "metadata": {},
   "source": [
    "## 🔄 Iterating Over a List\n",
    "\n"
   ]
  },
  {
   "cell_type": "code",
   "execution_count": 15,
   "id": "91f76583-4c65-4783-975e-8fb979d31b6c",
   "metadata": {},
   "outputs": [
    {
     "name": "stdout",
     "output_type": "stream",
     "text": [
      "apple\n",
      "grape\n",
      "blueberry\n"
     ]
    }
   ],
   "source": [
    "# Access each element of the list as per the start index\n",
    "\n",
    "for fruit in fruits:\n",
    "    print(fruit)\n"
   ]
  },
  {
   "cell_type": "markdown",
   "id": "ce38803b-a2f4-40f1-8e14-78fde8620c2e",
   "metadata": {},
   "source": [
    "# 2️⃣  Dictionary – Key-Value Pairs\n",
    "\n",
    "### 🧾 Definition:\n",
    "A **dictionary** in Python is an unordered collection of **key-value pairs**. Each key is unique, and it maps to a corresponding value. Dictionaries are highly efficient for lookups by key and are defined using curly braces `{}` with the syntax `{key: value}`.\n",
    "\n",
    "- ✅ **Unordered** (Note: In Python 3.6+, dictionaries preserve insertion order)\n",
    "- ✅ **Fast lookup** by key\n",
    "- ✅ Keys must be **immutable** (e.g., strings, numbers, tuples)\n",
    "- ✅ Values can be of any data type\n"
   ]
  },
  {
   "cell_type": "code",
   "execution_count": 17,
   "id": "31d120fb-2820-4142-acab-758de9efad97",
   "metadata": {},
   "outputs": [
    {
     "name": "stdout",
     "output_type": "stream",
     "text": [
      "Alice\n",
      "30\n",
      "{'name': 'Alice', 'age': 31, 'city': 'New York'}\n",
      "{'name': 'Alice', 'age': 31, 'city': 'New York', 'email': 'alice@example.com'}\n",
      "{'name': 'Alice', 'age': 31, 'email': 'alice@example.com'}\n",
      "31\n",
      "{'name': 'Alice', 'email': 'alice@example.com'}\n",
      "True\n",
      "False\n",
      "dict_keys(['name', 'email'])\n",
      "dict_values(['Alice', 'alice@example.com'])\n",
      "dict_items([('name', 'Alice'), ('email', 'alice@example.com')])\n",
      "{}\n",
      "{}\n",
      "{'name': 'Bob'}\n"
     ]
    }
   ],
   "source": [
    "# Defining a Dictionary\n",
    "person = {\n",
    "    \"name\": \"Alice\",\n",
    "    \"age\": 30,\n",
    "    \"city\": \"New York\"\n",
    "}\n",
    "\n",
    "# 1️⃣ Accessing Values by Key\n",
    "print(person[\"name\"])  # Output: Alice\n",
    "print(person[\"age\"])   # Output: 30\n",
    "\n",
    "# 2️⃣ Updating a Value by Key\n",
    "person[\"age\"] = 31  # Changing age\n",
    "print(person)  # {'name': 'Alice', 'age': 31, 'city': 'New York'}\n",
    "\n",
    "# 3️⃣ Adding a New Key-Value Pair\n",
    "person[\"email\"] = \"alice@example.com\"\n",
    "print(person)  # {'name': 'Alice', 'age': 31, 'city': 'New York', 'email': 'alice@example.com'}\n",
    "\n",
    "# 4️⃣ Removing a Key-Value Pair using `del`\n",
    "del person[\"city\"]\n",
    "print(person)  # {'name': 'Alice', 'age': 31, 'email': 'alice@example.com'}\n",
    "\n",
    "# 5️⃣ Using `pop()` to Remove a Key-Value Pair and Get Its Value\n",
    "age = person.pop(\"age\")\n",
    "print(age)     # Output: 31\n",
    "print(person)  # {'name': 'Alice', 'email': 'alice@example.com'}\n",
    "\n",
    "# 6️⃣ Checking if a Key Exists with `in`\n",
    "print(\"name\" in person)  # Output: True\n",
    "print(\"city\" in person)  # Output: False\n",
    "\n",
    "# 7️⃣ Getting All Keys with `keys()`\n",
    "keys = person.keys()\n",
    "print(keys)   # Output: dict_keys(['name', 'email'])\n",
    "\n",
    "# 8️⃣ Getting All Values with `values()`\n",
    "values = person.values()\n",
    "print(values)  # Output: dict_values(['Alice', 'alice@example.com'])\n",
    "\n",
    "# 9️⃣ Getting All Key-Value Pairs with `items()`\n",
    "items = person.items()\n",
    "print(items)   # Output: dict_items([('name', 'Alice'), ('email', 'alice@example.com')])\n",
    "\n",
    "# 🔟 Clearing All Items with `clear()`\n",
    "person.clear()\n",
    "print(person)  # Output: {}\n",
    "\n",
    "# 1️⃣1️⃣ Copying a Dictionary with `copy()`\n",
    "new_person = person.copy()\n",
    "new_person[\"name\"] = \"Bob\"\n",
    "print(person)       # Output: {} (empty, because we cleared it)\n",
    "print(new_person)   # Output: {'name': 'Bob'}\n"
   ]
  },
  {
   "cell_type": "markdown",
   "id": "c54e9268-389d-4912-940a-e306400e4841",
   "metadata": {},
   "source": [
    "## 3️⃣ Set – Unordered, Unique Items\n",
    "\n",
    "### 🧾 Definition:\n",
    "A **set** in Python is an unordered collection of **unique items**. Sets are defined using curly braces `{}` or the `set()` constructor. They are commonly used when you need to store elements without duplicates and when you need fast membership testing.\n",
    "\n",
    "- ✅ **Unordered** — No guarantee of the order of items.\n",
    "- ✅ **Unique items** — No duplicates allowed.\n",
    "- ✅ **Mutable** — You can add and remove items from a set.\n",
    "- ✅ **Fast membership testing** — Set operations like checking if an element is present in the set are very efficient.\n",
    "\n",
    "### 🔤 Example:\n",
    "\n",
    "```python\n",
    "fruits = {\"apple\", \"banana\", \"cherry\"}\n",
    "\n",
    "# Adding an item to a set\n",
    "fruits.add(\"orange\")\n",
    "print(fruits)  # Output: {'apple', 'banana', 'cherry', 'orange'}\n",
    "\n",
    "# Removing an item from a set\n",
    "fruits.remove(\"banana\")\n",
    "print(fruits)  # Output: {'apple', 'cherry', 'orange'}\n",
    "\n",
    "# Attempting to add a duplicate item\n",
    "fruits.add(\"apple\")\n",
    "print(fruits)  # Output: {'apple', 'cherry', 'orange'} (No duplicates)\n"
   ]
  },
  {
   "cell_type": "code",
   "execution_count": 20,
   "id": "9d9c9881-5520-4076-b34b-bfc9db24b13e",
   "metadata": {},
   "outputs": [
    {
     "name": "stdout",
     "output_type": "stream",
     "text": [
      "{1, 2, 3, 4}\n",
      "True\n"
     ]
    }
   ],
   "source": [
    "unique_numbers = {1, 2, 3, 3, 4}\n",
    "print(unique_numbers)   # Output: {1, 2, 3, 4}\n",
    "\n",
    "unique_numbers.add(5)\n",
    "print(3 in unique_numbers)  # True\n"
   ]
  },
  {
   "cell_type": "markdown",
   "id": "bac66ed7-e1ea-495c-ad9f-6f50b73d6530",
   "metadata": {},
   "source": [
    "## 📦 Tuple – Ordered, Immutable Collection\n",
    "\n",
    "### 🧾 Definition:\n",
    "A **tuple** in Python is an ordered collection of elements, defined using parentheses `()`. Unlike lists, tuples are **immutable**, meaning that once created, their elements cannot be modified, added, or removed. Tuples are often used for **fixed collections** of data or when multiple return values need to be grouped together.\n",
    "\n",
    "- ✅ **Ordered** — The order of elements is preserved.\n",
    "- ✅ **Immutable** — Once created, a tuple cannot be changed (no item modification, addition, or removal).\n",
    "- ✅ Can store **mixed data types** (similar to lists).\n",
    "- ✅ Often used for **fixed collections** or **multiple return values** from functions.\n",
    "\n",
    "### 🔤 Example:\n",
    "\n",
    "```python\n",
    "# Creating a tuple\n",
    "coordinates = (10, 20)\n",
    "print(coordinates)  # Output: (10, 20)\n",
    "\n",
    "# Accessing tuple elements by index\n",
    "print(coordinates[0])  # Output: 10\n",
    "\n",
    "# Attempting to change an element (raises error)\n",
    "# coordinates[1] = 30  # TypeError: 'tuple' object does not support item assignment\n"
   ]
  },
  {
   "cell_type": "code",
   "execution_count": null,
   "id": "614ee3e0-b06d-4a28-87f4-b0434a2ca1c9",
   "metadata": {},
   "outputs": [],
   "source": []
  }
 ],
 "metadata": {
  "kernelspec": {
   "display_name": "Python 3 (ipykernel)",
   "language": "python",
   "name": "python3"
  },
  "language_info": {
   "codemirror_mode": {
    "name": "ipython",
    "version": 3
   },
   "file_extension": ".py",
   "mimetype": "text/x-python",
   "name": "python",
   "nbconvert_exporter": "python",
   "pygments_lexer": "ipython3",
   "version": "3.13.2"
  }
 },
 "nbformat": 4,
 "nbformat_minor": 5
}
