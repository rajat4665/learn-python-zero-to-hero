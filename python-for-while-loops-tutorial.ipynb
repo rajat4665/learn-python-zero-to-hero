{
 "cells": [
  {
   "cell_type": "markdown",
   "id": "4a76e098-6196-4a2c-9a1d-9272be39c1fc",
   "metadata": {},
   "source": [
    "## 🚀 **Loops in Python: The Basics of Iteration**\n",
    "\n",
    "Loops are one of the fundamental concepts in programming, allowing you to execute a block of code repeatedly under certain conditions. Python provides two main types of loops: the `for` loop and the `while` loop. Let's break them down with examples and explain how to use them effectively.\n",
    "\n",
    "### **Why Do We Use Loops?**\n",
    "Loops help you avoid repeating code. Instead of writing the same block of code multiple times, loops allow you to **iterate** over a collection (like a list or a range of numbers), or repeat actions while a certain condition is `True`.\n"
   ]
  },
  {
   "cell_type": "markdown",
   "id": "caae0158-c644-4a67-a13c-dbc9611e3f7f",
   "metadata": {},
   "source": [
    "## 1. The for Loop: Iterating Over Sequences\n"
   ]
  },
  {
   "cell_type": "code",
   "execution_count": 2,
   "id": "d08a0f3f-7e36-4339-bdbc-704b0bf27a92",
   "metadata": {},
   "outputs": [
    {
     "name": "stdout",
     "output_type": "stream",
     "text": [
      "apple\n",
      "banana\n",
      "cherry\n"
     ]
    }
   ],
   "source": [
    "# The for loop is used to iterate over a sequence (like a list, string, or range). \n",
    "# It executes a block of code for each item in the sequence.\n",
    "\n",
    "fruits = [\"apple\", \"banana\", \"cherry\"]\n",
    "\n",
    "for fruit in fruits:\n",
    "    print(fruit)\n"
   ]
  },
  {
   "cell_type": "markdown",
   "id": "db77c2aa-39c9-4e21-80a7-751344bf4338",
   "metadata": {},
   "source": [
    "## 2. The while Loop: Repeating Until a Condition is Met\n"
   ]
  },
  {
   "cell_type": "code",
   "execution_count": 4,
   "id": "deb73c05-23e9-4d61-911d-d95099fa182e",
   "metadata": {},
   "outputs": [
    {
     "name": "stdout",
     "output_type": "stream",
     "text": [
      "0\n",
      "1\n",
      "2\n",
      "3\n",
      "4\n"
     ]
    }
   ],
   "source": [
    "# The while loop repeats a block of code as long as a condition evaluates to True. \n",
    "# It’s useful when you don’t know how many iterations are needed in advance, \n",
    "# but you know the condition that should stop the loop\n",
    "\n",
    "count = 0\n",
    "\n",
    "while count < 5:\n",
    "    print(count)\n",
    "    count += 1  # Increment count by 1 each time\n"
   ]
  },
  {
   "cell_type": "markdown",
   "id": "e71455b7-d018-4a01-ab2b-a0213dda9505",
   "metadata": {},
   "source": [
    "## 3. The break Statement: Exiting a Loop Early\n"
   ]
  },
  {
   "cell_type": "code",
   "execution_count": 7,
   "id": "210a9bb1-2ac5-48bf-a377-0093b6c4bcab",
   "metadata": {},
   "outputs": [
    {
     "name": "stdout",
     "output_type": "stream",
     "text": [
      "0\n",
      "1\n",
      "2\n",
      "3\n",
      "4\n"
     ]
    }
   ],
   "source": [
    "# You can use the break statement to exit a loop prematurely, regardless of the loop's condition.\n",
    "\n",
    "for number in range(10):\n",
    "    if number == 5:\n",
    "        break # brake statement just quite the loop when condtion met\n",
    "    print(number)\n"
   ]
  },
  {
   "cell_type": "markdown",
   "id": "8856eed5-0f57-4145-8d03-a139479da0fc",
   "metadata": {},
   "source": [
    "## 4. The continue Statement: Skipping to the Next Iteration\n"
   ]
  },
  {
   "cell_type": "code",
   "execution_count": 11,
   "id": "45f04ae5-908a-4ea9-85ec-2d63b8913af2",
   "metadata": {},
   "outputs": [
    {
     "name": "stdout",
     "output_type": "stream",
     "text": [
      "1\n",
      "3\n",
      "5\n"
     ]
    }
   ],
   "source": [
    "# The continue statement allows you to skip the rest of the code inside the loop and move to the next iteration.\n",
    "\n",
    "for number in range(6):\n",
    "    if number % 2 == 0: # here we are skiping the even numbers\n",
    "        continue\n",
    "    print(number)\n"
   ]
  },
  {
   "cell_type": "markdown",
   "id": "4f829979-8db2-473b-884a-e28ac42c9930",
   "metadata": {},
   "source": [
    "## 🚀 **The `for` Loop Behavior on Strings, Lists, and Dictionaries in Python**\n",
    "\n",
    "The `for` loop in Python can be used to iterate over **strings**, **lists**, and **dictionaries**, but it behaves differently depending on the data type. Let’s take a closer look at how it works with each.\n"
   ]
  },
  {
   "cell_type": "markdown",
   "id": "2177946f-d921-4a8a-aa9a-02bfc0a26097",
   "metadata": {},
   "source": [
    "### **1. `for` Loop with a String**\n"
   ]
  },
  {
   "cell_type": "code",
   "execution_count": 13,
   "id": "7c1bbdf1-27b9-4f24-9df2-6d0989a81930",
   "metadata": {},
   "outputs": [
    {
     "name": "stdout",
     "output_type": "stream",
     "text": [
      "h\n",
      "e\n",
      "l\n",
      "l\n",
      "o\n"
     ]
    }
   ],
   "source": [
    "text = \"hello\"\n",
    "for char in text:\n",
    "    print(char)"
   ]
  },
  {
   "cell_type": "markdown",
   "id": "614d4732-83cb-4644-961a-07adae4a723f",
   "metadata": {},
   "source": [
    "## 2. for Loop with a List\n"
   ]
  },
  {
   "cell_type": "code",
   "execution_count": 14,
   "id": "01371161-43be-4287-9c24-3686d4f0e3fa",
   "metadata": {},
   "outputs": [
    {
     "name": "stdout",
     "output_type": "stream",
     "text": [
      "apple\n",
      "banana\n",
      "cherry\n"
     ]
    }
   ],
   "source": [
    "fruits = [\"apple\", \"banana\", \"cherry\"]\n",
    "for fruit in fruits:\n",
    "    print(fruit)\n"
   ]
  },
  {
   "cell_type": "markdown",
   "id": "319cf1db-da2a-4568-ac78-9015d4abf547",
   "metadata": {},
   "source": [
    "## 3. for Loop with a Dictionary\n"
   ]
  },
  {
   "cell_type": "code",
   "execution_count": 18,
   "id": "03231b59-7bff-4dde-b352-2ea1e3b3e0ac",
   "metadata": {},
   "outputs": [
    {
     "name": "stdout",
     "output_type": "stream",
     "text": [
      "name\n",
      "age\n",
      "city\n"
     ]
    }
   ],
   "source": [
    "# Iterating Over Keys in a Dictionary\n",
    "person = {\"name\": \"Alice\", \"age\": 25, \"city\": \"New York\"}\n",
    "for key in person:\n",
    "    print(key)\n"
   ]
  },
  {
   "cell_type": "code",
   "execution_count": 19,
   "id": "10a3bc78-4756-413d-8314-d2c21c940e44",
   "metadata": {},
   "outputs": [
    {
     "name": "stdout",
     "output_type": "stream",
     "text": [
      "Alice\n",
      "25\n",
      "New York\n"
     ]
    }
   ],
   "source": [
    "# Iterating Over Values in a Dictionary\n",
    "person = {\"name\": \"Alice\", \"age\": 25, \"city\": \"New York\"}\n",
    "for value in person.values():\n",
    "    print(value)\n"
   ]
  },
  {
   "cell_type": "code",
   "execution_count": 21,
   "id": "265a126d-6fd5-4691-839b-c6e28521c731",
   "metadata": {},
   "outputs": [
    {
     "name": "stdout",
     "output_type": "stream",
     "text": [
      "name : Alice\n",
      "age : 25\n",
      "city : New York\n"
     ]
    }
   ],
   "source": [
    "# Iterating Over Key-Value Pairs in a Dictionary\n",
    "person = {\"name\": \"Alice\", \"age\": 25, \"city\": \"New York\"}\n",
    "for key, value in person.items():\n",
    "    print(key, \":\", value)\n"
   ]
  },
  {
   "cell_type": "code",
   "execution_count": null,
   "id": "1402c5e3-bfc5-41d0-ab0b-80ff9479d86e",
   "metadata": {},
   "outputs": [],
   "source": []
  }
 ],
 "metadata": {
  "kernelspec": {
   "display_name": "Python 3 (ipykernel)",
   "language": "python",
   "name": "python3"
  },
  "language_info": {
   "codemirror_mode": {
    "name": "ipython",
    "version": 3
   },
   "file_extension": ".py",
   "mimetype": "text/x-python",
   "name": "python",
   "nbconvert_exporter": "python",
   "pygments_lexer": "ipython3",
   "version": "3.13.2"
  }
 },
 "nbformat": 4,
 "nbformat_minor": 5
}
