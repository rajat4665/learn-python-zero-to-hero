{
 "cells": [
  {
   "cell_type": "markdown",
   "id": "45ded5f1-3b24-45f6-b73d-e5f305a20d3c",
   "metadata": {},
   "source": [
    "# 📘 Python Error Handling: Easy Examples\n",
    "\n",
    "Understanding how to handle errors is key to writing robust Python programs. Let's go through simple examples using `try`, `except`, `else`, and `finally`.\n",
    "\n",
    "---\n",
    "\n",
    "### 📋 Common Modes\n",
    "\n",
    "| Mode  | Description               |\n",
    "|-------|---------------------------|\n",
    "| `\"r\"` | Read (default)            |\n",
    "| `\"w\"` | Write (overwrites file)   |\n",
    "| `\"a\"` | Append (adds to file)     |\n",
    "| `\"x\"` | Create (fails if exists)  |\n",
    "| `\"b\"` | Binary mode               |\n",
    "| `\"t\"` | Text mode (default)       |\n"
   ]
  },
  {
   "cell_type": "markdown",
   "id": "ec30f9d0-d9ae-44cd-9964-105f8ec7453f",
   "metadata": {},
   "source": [
    "## 📂 1. Opening a File\n"
   ]
  },
  {
   "cell_type": "code",
   "execution_count": 1,
   "id": "34463900-3564-4a55-884b-eb3c3c5a48c1",
   "metadata": {},
   "outputs": [],
   "source": [
    "file = open(\"utility_files/test_file_for_read_operation.txt\", \"r\")  # \"r\" = read mode\n"
   ]
  },
  {
   "cell_type": "markdown",
   "id": "cf55bb0c-e196-47db-9221-edf46b02384f",
   "metadata": {},
   "source": [
    "## 📖 2. Reading a File\n"
   ]
  },
  {
   "cell_type": "code",
   "execution_count": 2,
   "id": "439fc662-c550-4844-bb96-123df9dceedf",
   "metadata": {},
   "outputs": [
    {
     "name": "stdout",
     "output_type": "stream",
     "text": [
      "Lorem ipsum dolor sit amet, consectetur adipiscing elit. Sed do eiusmod tempor incididunt ut labore et dolore magna aliqua. Ut enim ad minim veniam, quis nostrud exercitation ullamco laboris nisi ut aliquip ex ea commodo consequat. Duis aute irure dolor in reprehenderit in voluptate velit esse cillum dolore eu fugiat nulla pariatur. Excepteur sint occaecat cupidatat non proident, sunt in culpa qui officia deserunt mollit anim id est laborum.\n",
      "\n",
      "Second line. \n",
      "\n",
      "Lorem ipsum dolor sit amet, consectetur adipiscing elit. Sed do eiusmod tempor incididunt ut labore et dolore magna aliqua. Ut enim ad minim veniam, quis nostrud exercitation ullamco laboris nisi ut aliquip ex ea commodo consequat. Duis aute irure dolor in reprehenderit in voluptate velit esse cillum dolore eu fugiat nulla pariatur. Excepteur sint occaecat cupidatat non proident, sunt in culpa qui officia deserunt mollit anim id est laborum.\n",
      "\n",
      "\n",
      "This is an appended line.\n"
     ]
    }
   ],
   "source": [
    "# Read the entire file\n",
    "with open(\"utility_files/test_file_for_read_operation.txt\", \"r\") as file:\n",
    "    content = file.read()\n",
    "    print(content)\n"
   ]
  },
  {
   "cell_type": "code",
   "execution_count": 3,
   "id": "f59f09a9-001f-4ae4-b3fb-928e36090b4c",
   "metadata": {},
   "outputs": [
    {
     "name": "stdout",
     "output_type": "stream",
     "text": [
      ">>>> 0 line readed \n",
      "Lorem ipsum dolor sit amet, consectetur adipiscing elit. Sed do eiusmod tempor incididunt ut labore et dolore magna aliqua. Ut enim ad minim veniam, quis nostrud exercitation ullamco laboris nisi ut aliquip ex ea commodo consequat. Duis aute irure dolor in reprehenderit in voluptate velit esse cillum dolore eu fugiat nulla pariatur. Excepteur sint occaecat cupidatat non proident, sunt in culpa qui officia deserunt mollit anim id est laborum.\n",
      ">>>> 1 line readed \n",
      "\n",
      ">>>> 2 line readed \n",
      "Second line.\n",
      ">>>> 3 line readed \n",
      "\n",
      ">>>> 4 line readed \n",
      "Lorem ipsum dolor sit amet, consectetur adipiscing elit. Sed do eiusmod tempor incididunt ut labore et dolore magna aliqua. Ut enim ad minim veniam, quis nostrud exercitation ullamco laboris nisi ut aliquip ex ea commodo consequat. Duis aute irure dolor in reprehenderit in voluptate velit esse cillum dolore eu fugiat nulla pariatur. Excepteur sint occaecat cupidatat non proident, sunt in culpa qui officia deserunt mollit anim id est laborum.\n",
      ">>>> 5 line readed \n",
      "\n",
      ">>>> 6 line readed \n",
      "\n",
      ">>>> 7 line readed \n",
      "This is an appended line.\n"
     ]
    }
   ],
   "source": [
    "# Read line by line:\n",
    "with open(\"utility_files/test_file_for_read_operation.txt\", \"r\") as file:\n",
    "    count = 0\n",
    "    for line in file:\n",
    "        print(f\">>>> {count} line readed \")\n",
    "        print(line.strip())\n",
    "        count += 1\n",
    "\n"
   ]
  },
  {
   "cell_type": "markdown",
   "id": "063b25cf-db54-422c-80e3-519bdc995865",
   "metadata": {},
   "source": [
    "## ✍️ 3. Writing to a File\n"
   ]
  },
  {
   "cell_type": "code",
   "execution_count": 4,
   "id": "9093519b-9b35-4bb2-87c5-ecff659b2d2d",
   "metadata": {},
   "outputs": [
    {
     "name": "stdout",
     "output_type": "stream",
     "text": [
      "Lorem ipsum dolor sit amet, consectetur adipiscing elit. Sed do eiusmod tempor incididunt ut labore et dolore magna aliqua. Ut enim ad minim veniam, quis nostrud exercitation ullamco laboris nisi ut aliquip ex ea commodo consequat. Duis aute irure dolor in reprehenderit in voluptate velit esse cillum dolore eu fugiat nulla pariatur. Excepteur sint occaecat cupidatat non proident, sunt in culpa qui officia deserunt mollit anim id est laborum.\n",
      "\n",
      "Second line. \n",
      "\n",
      "Lorem ipsum dolor sit amet, consectetur adipiscing elit. Sed do eiusmod tempor incididunt ut labore et dolore magna aliqua. Ut enim ad minim veniam, quis nostrud exercitation ullamco laboris nisi ut aliquip ex ea commodo consequat. Duis aute irure dolor in reprehenderit in voluptate velit esse cillum dolore eu fugiat nulla pariatur. Excepteur sint occaecat cupidatat non proident, sunt in culpa qui officia deserunt mollit anim id est laborum.\n",
      "\n"
     ]
    }
   ],
   "source": [
    "# Overwrite the file using w operation\n",
    "\n",
    "with open(\"utility_files/test_file_for_read_operation.txt\", \"w\") as file:\n",
    "    file.write(\"Lorem ipsum dolor sit amet, consectetur adipiscing elit. Sed do eiusmod tempor incididunt ut labore et dolore magna aliqua. Ut enim ad minim veniam, quis nostrud exercitation ullamco laboris nisi ut aliquip ex ea commodo consequat. Duis aute irure dolor in reprehenderit in voluptate velit esse cillum dolore eu fugiat nulla pariatur. Excepteur sint occaecat cupidatat non proident, sunt in culpa qui officia deserunt mollit anim id est laborum.\\n\")\n",
    "    file.write(\"\\n\")\n",
    "    file.write(\"Second line. \\n\")\n",
    "    file.write(\"\\n\")\n",
    "    file.write(\"Lorem ipsum dolor sit amet, consectetur adipiscing elit. Sed do eiusmod tempor incididunt ut labore et dolore magna aliqua. Ut enim ad minim veniam, quis nostrud exercitation ullamco laboris nisi ut aliquip ex ea commodo consequat. Duis aute irure dolor in reprehenderit in voluptate velit esse cillum dolore eu fugiat nulla pariatur. Excepteur sint occaecat cupidatat non proident, sunt in culpa qui officia deserunt mollit anim id est laborum.\\n\")\n",
    "\n",
    "# Read the entire file again\n",
    "with open(\"utility_files/test_file_for_read_operation.txt\", \"r\") as file:\n",
    "    content = file.read()\n",
    "    print(content)"
   ]
  },
  {
   "cell_type": "code",
   "execution_count": 5,
   "id": "fd84053c-55d7-483b-845c-cce32e0aa361",
   "metadata": {},
   "outputs": [
    {
     "name": "stdout",
     "output_type": "stream",
     "text": [
      "Lorem ipsum dolor sit amet, consectetur adipiscing elit. Sed do eiusmod tempor incididunt ut labore et dolore magna aliqua. Ut enim ad minim veniam, quis nostrud exercitation ullamco laboris nisi ut aliquip ex ea commodo consequat. Duis aute irure dolor in reprehenderit in voluptate velit esse cillum dolore eu fugiat nulla pariatur. Excepteur sint occaecat cupidatat non proident, sunt in culpa qui officia deserunt mollit anim id est laborum.\n",
      "\n",
      "Second line. \n",
      "\n",
      "Lorem ipsum dolor sit amet, consectetur adipiscing elit. Sed do eiusmod tempor incididunt ut labore et dolore magna aliqua. Ut enim ad minim veniam, quis nostrud exercitation ullamco laboris nisi ut aliquip ex ea commodo consequat. Duis aute irure dolor in reprehenderit in voluptate velit esse cillum dolore eu fugiat nulla pariatur. Excepteur sint occaecat cupidatat non proident, sunt in culpa qui officia deserunt mollit anim id est laborum.\n",
      "\n",
      "\n",
      "This is an appended line.\n"
     ]
    }
   ],
   "source": [
    "# Append to the file using a oepration\n",
    "\n",
    "with open(\"utility_files/test_file_for_read_operation.txt\", \"a\") as file:\n",
    "    file.write(\"\\n\")\n",
    "    file.write(\"\\nThis is an appended line.\")\n",
    "\n",
    "# Read the entire file again\n",
    "with open(\"utility_files/test_file_for_read_operation.txt\", \"r\") as file:\n",
    "    content = file.read()\n",
    "    print(content)"
   ]
  },
  {
   "cell_type": "markdown",
   "id": "a2751418-daf1-4b26-90dd-0bc049c4d648",
   "metadata": {},
   "source": [
    "## ❌ 4. Handling File Not Found"
   ]
  },
  {
   "cell_type": "code",
   "execution_count": 6,
   "id": "d33f0f67-d980-4ea0-b1cd-c58c7d45fc78",
   "metadata": {},
   "outputs": [
    {
     "name": "stdout",
     "output_type": "stream",
     "text": [
      "File not found.\n"
     ]
    }
   ],
   "source": [
    "try:\n",
    "    with open(\"missing.txt\", \"r\") as file:\n",
    "        print(file.read())\n",
    "except FileNotFoundError:\n",
    "    print(\"File not found.\")\n"
   ]
  },
  {
   "cell_type": "code",
   "execution_count": null,
   "id": "659a870f-adc8-4989-ba90-25626d856f04",
   "metadata": {},
   "outputs": [],
   "source": []
  }
 ],
 "metadata": {
  "kernelspec": {
   "display_name": "Python 3 (ipykernel)",
   "language": "python",
   "name": "python3"
  },
  "language_info": {
   "codemirror_mode": {
    "name": "ipython",
    "version": 3
   },
   "file_extension": ".py",
   "mimetype": "text/x-python",
   "name": "python",
   "nbconvert_exporter": "python",
   "pygments_lexer": "ipython3",
   "version": "3.13.2"
  }
 },
 "nbformat": 4,
 "nbformat_minor": 5
}
