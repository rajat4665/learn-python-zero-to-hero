{
 "cells": [
  {
   "cell_type": "markdown",
   "id": "d35fb681-ab7f-4bc2-95a4-8edaf5e9ef0a",
   "metadata": {},
   "source": [
    "# 📘 Introduction to Python Functions\n",
    "\n",
    "Functions are one of the core building blocks of Python. They allow you to group reusable code into a single block that can be executed whenever needed. This helps keep your programs organized, readable, and easy to maintain.\n",
    "\n",
    "Python functions are defined using the `def` keyword, followed by the function name, optional parameters, and a colon. The indented block below defines the **function body** — the code that runs when the function is called.\n",
    "\n",
    "## ✅ Why Use Functions?\n",
    "\n",
    "- **Reusability**: Write code once, use it many times.\n",
    "- **Modularity**: Break complex problems into smaller, manageable parts.\n",
    "- **Readability**: Make your code cleaner and easier to understand.\n",
    "- **Maintainability**: Easier to update or debug smaller code blocks.\n",
    "\n",
    "## 🧠 Basic Example\n",
    "\n",
    "```python\n"
   ]
  },
  {
   "cell_type": "code",
   "execution_count": 1,
   "id": "245e4991-3c7a-4687-8d29-3ff1ded82b18",
   "metadata": {},
   "outputs": [],
   "source": [
    "def greet(name):\n",
    "    print(\"Hello, \" + name + \"!\")\n"
   ]
  },
  {
   "cell_type": "code",
   "execution_count": 2,
   "id": "bfffc89e-3241-4d6d-81a7-b1ebd022fdb6",
   "metadata": {},
   "outputs": [
    {
     "name": "stdout",
     "output_type": "stream",
     "text": [
      "Hello, Alice!\n"
     ]
    }
   ],
   "source": [
    "# Calling the function:\n",
    "greet(\"Alice\")\n",
    "# Output: Hello, Alice!\n",
    "\n"
   ]
  },
  {
   "cell_type": "markdown",
   "id": "5b458ecb-4e7c-486f-9c4b-e0cb0735a71c",
   "metadata": {},
   "source": [
    "## # 🧱 Main Parts of a Python Function\n"
   ]
  },
  {
   "cell_type": "markdown",
   "id": "0e34f597-d516-41a5-a46d-0b26cc2b6246",
   "metadata": {},
   "source": [
    "## 1. Function Definition Syntax\n"
   ]
  },
  {
   "cell_type": "code",
   "execution_count": 3,
   "id": "96d8ac0f-7913-4920-8289-78bcfee54d17",
   "metadata": {},
   "outputs": [],
   "source": [
    "def function_name(parameters):\n",
    "    \"\"\"Optional docstring\"\"\"\n",
    "    # Function body\n",
    "    return value  #"
   ]
  },
  {
   "cell_type": "markdown",
   "id": "3d4e234f-01b6-40cf-b1bc-ca1dc6b37834",
   "metadata": {},
   "source": [
    "## 2. Parts Explained\n"
   ]
  },
  {
   "cell_type": "markdown",
   "id": "b052e729-6b2d-4eb5-a656-d11bd86731ee",
   "metadata": {},
   "source": [
    "\n",
    "### 🏷️ def Keyword\n",
    "\n",
    "The `def` keyword is used to define a function in Python.  \n",
    "It is **required** at the start of every function definition."
   ]
  },
  {
   "cell_type": "code",
   "execution_count": 4,
   "id": "a6c9a0cf-849d-4990-a29c-c4d485afad6e",
   "metadata": {},
   "outputs": [],
   "source": [
    "def greet():\n",
    "    print(\"Hello!\")"
   ]
  },
  {
   "cell_type": "markdown",
   "id": "6f686fbd-0a42-433f-94a6-f67685c744c3",
   "metadata": {},
   "source": [
    "### 🧩 Function Name\n",
    "\n",
    "The function name must follow standard Python naming rules:\n",
    "\n",
    "- Can contain **letters**, **numbers**, and **underscores**.\n",
    "- **Cannot start with a number**.\n",
    "- Should be **descriptive** of what the function does.\n",
    "- Use **lowercase letters** and **underscores** to separate words (PEP 8 convention).\n",
    "\n",
    "```python"
   ]
  },
  {
   "cell_type": "code",
   "execution_count": 5,
   "id": "b65967e1-1f55-4239-aa98-083ec9768b46",
   "metadata": {},
   "outputs": [],
   "source": [
    "def calculate_total():\n",
    "    pass"
   ]
  },
  {
   "cell_type": "markdown",
   "id": "a4fef346-c5b7-4992-a3ba-84b972acd632",
   "metadata": {},
   "source": [
    "### 📥 Parameters (Optional)\n",
    "\n",
    "Parameters are the **input values** that are passed to the function inside the parentheses. They allow you to pass data into a function when calling it.\n",
    "\n",
    "- You can have **no parameters**, **one**, or **many** parameters.\n",
    "- Parameters are defined within the parentheses when defining the function.\n",
    "- Inside the function, these parameters are treated as **local variables**.\n",
    "\n",
    "```python"
   ]
  },
  {
   "cell_type": "code",
   "execution_count": 6,
   "id": "54d4eed2-e804-473f-9a40-edf952474f08",
   "metadata": {},
   "outputs": [
    {
     "name": "stdout",
     "output_type": "stream",
     "text": [
      "Hello, Rajat!\n"
     ]
    }
   ],
   "source": [
    "def greet(name):\n",
    "    print(\"Hello, \" + name + \"!\")\n",
    "\n",
    "greet(\"Rajat\") # calling function"
   ]
  },
  {
   "cell_type": "markdown",
   "id": "15ada6c3-ee71-4ba7-8390-eac72df0c9ea",
   "metadata": {},
   "source": [
    "### 📦 Function Body\n",
    "\n",
    "The **function body** is the indented block of code that contains the logic of the function. It is executed whenever the function is called.\n",
    "\n",
    "- The body can contain **loops**, **conditionals**, **other function calls**, and any valid Python code.\n",
    "- The body is where you define what the function actually does when called.\n",
    "\n",
    "```python\n"
   ]
  },
  {
   "cell_type": "code",
   "execution_count": 7,
   "id": "1037af9f-9350-4d5c-ba11-6c9eaafd9779",
   "metadata": {},
   "outputs": [
    {
     "name": "stdout",
     "output_type": "stream",
     "text": [
      "13 is odd\n"
     ]
    }
   ],
   "source": [
    "def check_even_or_odd(number):\n",
    "    if number % 2 == 0:\n",
    "        print(f\"{number} is even\")\n",
    "    else:\n",
    "        print(f\"{number} is odd\")\n",
    "\n",
    "check_even_or_odd(13)"
   ]
  },
  {
   "cell_type": "markdown",
   "id": "1de99422-efe5-4a9e-9284-c8f030597ded",
   "metadata": {},
   "source": [
    "### 🔁 return Statement\n",
    "\n",
    "The `return` statement is used to **end the function** and send a result back to the caller.\n",
    "\n",
    "- The `return` statement allows you to **send a value** from the function back to where it was called.\n",
    "- The function execution stops as soon as a `return` statement is encountered.\n",
    "- **Optional**: If a function does not include a `return` statement, it will return `None` by default.\n",
    "\n",
    "```python"
   ]
  },
  {
   "cell_type": "code",
   "execution_count": 8,
   "id": "44e578b8-2145-485f-9eca-a66a72d09fb6",
   "metadata": {},
   "outputs": [
    {
     "name": "stdout",
     "output_type": "stream",
     "text": [
      "25\n"
     ]
    }
   ],
   "source": [
    "def square(x):\n",
    "    return x * x\n",
    "\n",
    "result = square(5)\n",
    "print(result)"
   ]
  },
  {
   "cell_type": "markdown",
   "id": "5d55c2d5-0dc2-4572-a276-55ab1a47f0f0",
   "metadata": {},
   "source": [
    "## Function to Add Two Numbers\n"
   ]
  },
  {
   "cell_type": "code",
   "execution_count": 9,
   "id": "3a1f4121-0906-4288-a49b-27ae06bf2265",
   "metadata": {},
   "outputs": [
    {
     "name": "stdout",
     "output_type": "stream",
     "text": [
      "7\n"
     ]
    }
   ],
   "source": [
    "def add_numbers(a, b):\n",
    "    return a + b\n",
    "\n",
    "# Example usage:\n",
    "result = add_numbers(3, 4)\n",
    "print(result)  # Output: 7\n"
   ]
  },
  {
   "cell_type": "markdown",
   "id": "7876792b-9134-4a19-b312-d63d2fc51e4f",
   "metadata": {},
   "source": [
    "## Function to Find the Maximum of Two Numbers\n"
   ]
  },
  {
   "cell_type": "code",
   "execution_count": 10,
   "id": "340f2959-d803-420c-adf2-98e7ff76c058",
   "metadata": {},
   "outputs": [
    {
     "name": "stdout",
     "output_type": "stream",
     "text": [
      "20\n"
     ]
    }
   ],
   "source": [
    "def find_max(a, b):\n",
    "    if a > b:\n",
    "        return a\n",
    "    else:\n",
    "        return b\n",
    "\n",
    "# Example usage:\n",
    "result = find_max(10, 20)\n",
    "print(result)  # Output: 20\n"
   ]
  },
  {
   "cell_type": "markdown",
   "id": "389cd4f7-6f74-4bad-8c41-c75f694a546d",
   "metadata": {},
   "source": [
    "## Function to Check If a Number is Odd or Even\n"
   ]
  },
  {
   "cell_type": "code",
   "execution_count": 11,
   "id": "be7ecead-7307-43a7-8c85-1be17496492c",
   "metadata": {},
   "outputs": [
    {
     "name": "stdout",
     "output_type": "stream",
     "text": [
      "5 is odd\n",
      "8 is even\n"
     ]
    }
   ],
   "source": [
    "def check_odd_even(number):\n",
    "    if number % 2 == 0:\n",
    "        print(f\"{number} is even\")\n",
    "    else:\n",
    "        print(f\"{number} is odd\")\n",
    "\n",
    "# Example usage:\n",
    "check_odd_even(5)  # Output: 5 is odd\n",
    "check_odd_even(8)  # Output: 8 is even\n"
   ]
  },
  {
   "cell_type": "markdown",
   "id": "c79d71ea-ef73-4234-ad4b-269fe5add290",
   "metadata": {},
   "source": [
    "## Function to Reverse a String"
   ]
  },
  {
   "cell_type": "code",
   "execution_count": 12,
   "id": "b1a333fd-5707-4cdf-8067-6b0a74554dc9",
   "metadata": {},
   "outputs": [
    {
     "name": "stdout",
     "output_type": "stream",
     "text": [
      "olleh\n"
     ]
    }
   ],
   "source": [
    "def reverse_string(s):\n",
    "    return s[::-1]\n",
    "\n",
    "# Example usage:\n",
    "reversed_str = reverse_string(\"hello\")\n",
    "print(reversed_str)  # Output: olleh\n"
   ]
  },
  {
   "cell_type": "markdown",
   "id": "a1d8e316-627c-4296-9692-5e9d0724bf23",
   "metadata": {},
   "source": [
    "## Function to Filter Even Numbers from a List\n",
    "\n"
   ]
  },
  {
   "cell_type": "code",
   "execution_count": 13,
   "id": "34ec75a6-b04e-4df0-add4-11904153cd04",
   "metadata": {},
   "outputs": [
    {
     "name": "stdout",
     "output_type": "stream",
     "text": [
      "[2, 4, 6, 8, 10]\n"
     ]
    }
   ],
   "source": [
    "def filter_even(numbers):\n",
    "    \"\"\"Function for filter the even numbers from the list of numbers\"\"\"\n",
    "    # declare the empty list to add filtered records\n",
    "    results = [] \n",
    "    # iterate over the given list to check number is even or not\n",
    "    for num in numbers:\n",
    "        # used the modulo operator to get even value\n",
    "        if num % 2 == 0:\n",
    "            # if condition met, we are adding in the result list using append method\n",
    "            results.append(num)\n",
    "    # final return\n",
    "    \n",
    "    return results\n",
    "\n",
    "# Example usage:\n",
    "numbers_list = [1, 2, 3, 4, 5, 6, 7, 8, 9, 10]\n",
    "even_numbers = filter_even(numbers_list)\n",
    "\n",
    "print(even_numbers)\n",
    "# Output: [2, 4, 6, 8, 10]\n"
   ]
  },
  {
   "cell_type": "code",
   "execution_count": null,
   "id": "7b3186c3-0ace-4c80-ba5b-3f50416ebee9",
   "metadata": {},
   "outputs": [],
   "source": []
  }
 ],
 "metadata": {
  "kernelspec": {
   "display_name": "Python 3 (ipykernel)",
   "language": "python",
   "name": "python3"
  },
  "language_info": {
   "codemirror_mode": {
    "name": "ipython",
    "version": 3
   },
   "file_extension": ".py",
   "mimetype": "text/x-python",
   "name": "python",
   "nbconvert_exporter": "python",
   "pygments_lexer": "ipython3",
   "version": "3.13.2"
  }
 },
 "nbformat": 4,
 "nbformat_minor": 5
}
