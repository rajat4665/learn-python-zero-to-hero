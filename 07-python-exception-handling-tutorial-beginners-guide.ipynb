{
 "cells": [
  {
   "cell_type": "markdown",
   "id": "03b57f01-6ce3-4282-b739-bd042cb53754",
   "metadata": {},
   "source": [
    "# 📘 Python Exception Handling Tutorial: Beginner's Guide\n",
    "\n",
    "Understanding error handling in Python is key to writing reliable programs. Exceptions allow you to gracefully handle errors and prevent your programs from crashing unexpectedly. In this tutorial, we'll explore how Python handles errors using `try`, `except`, `else`, and `finally` blocks.\n",
    "\n",
    "## 📂 1. What is Exception Handling?\n",
    "\n",
    "In Python, exceptions are used to manage errors that can occur during runtime. Instead of the program stopping when an error occurs, Python raises an exception, which you can then handle to prevent the program from crashing.\n",
    "\n",
    "### Key Concepts:\n",
    "- **Exception**: An event that disrupts the normal flow of a program.\n",
    "- **Handling**: Using `try`, `except` to catch and manage exceptions.\n",
    "- **Raising**: Using `raise` to manually trigger an exception.\n",
    "\n",
    "---\n",
    "\n",
    "## 📂 2. Basic Syntax: `try` and `except`\n",
    "\n",
    "The simplest form of error handling involves using the `try` block to execute code and the `except` block to handle any errors.\n",
    "\n",
    "---"
   ]
  },
  {
   "cell_type": "markdown",
   "id": "d56baba8-f58b-4f81-99be-2de6adac3331",
   "metadata": {},
   "source": [
    "## Example: Handling a ZeroDivisionError"
   ]
  },
  {
   "cell_type": "code",
   "execution_count": 1,
   "id": "0de2f1cf-1f2f-461f-b558-755ddd67fead",
   "metadata": {},
   "outputs": [
    {
     "name": "stdout",
     "output_type": "stream",
     "text": [
      "Cannot divide by zero!\n"
     ]
    }
   ],
   "source": [
    "try:\n",
    "    result = 10 / 0\n",
    "except ZeroDivisionError:\n",
    "    print(\"Cannot divide by zero!\")"
   ]
  },
  {
   "cell_type": "code",
   "execution_count": 5,
   "id": "365d4e04-f007-43f5-9ba4-e366b78c23ed",
   "metadata": {},
   "outputs": [
    {
     "name": "stdout",
     "output_type": "stream",
     "text": [
      "You can't divide by zero!\n"
     ]
    }
   ],
   "source": [
    "# handling multiple execptions\n",
    "\n",
    "try:\n",
    "    x = 0\n",
    "    y = 10 / x\n",
    "except ZeroDivisionError:\n",
    "    print(\"You can't divide by zero!\")\n",
    "except ValueError:\n",
    "    print(\"Invalid input! Please enter a number.\")\n"
   ]
  },
  {
   "cell_type": "code",
   "execution_count": 6,
   "id": "13019bd9-26de-49a5-a7fc-256beb109c51",
   "metadata": {},
   "outputs": [
    {
     "name": "stdout",
     "output_type": "stream",
     "text": [
      "File not found!\n"
     ]
    }
   ],
   "source": [
    "try:\n",
    "    file = open(\"example.txt\", \"r\")\n",
    "    content = file.read()\n",
    "except FileNotFoundError:\n",
    "    print(\"File not found!\")\n"
   ]
  },
  {
   "cell_type": "markdown",
   "id": "87313b75-7ce1-48e1-aec7-e8ea8dfdb6fe",
   "metadata": {},
   "source": [
    "## Example: Using the finally Clause\n"
   ]
  },
  {
   "cell_type": "code",
   "execution_count": 11,
   "id": "c4f45425-babd-4295-b0a2-2f7752e38e3d",
   "metadata": {},
   "outputs": [
    {
     "name": "stdout",
     "output_type": "stream",
     "text": [
      "File not found!\n",
      "Finishing the code.\n"
     ]
    }
   ],
   "source": [
    "#he finally block is always executed, no matter whether an exception was raised or not. \n",
    "# This is commonly used for cleanup actions, like closing files or releasing resources.\n",
    "\n",
    "try:\n",
    "    file = open(\"example.txt\", \"r\")\n",
    "    content = file.read()\n",
    "except FileNotFoundError:\n",
    "    print(\"File not found!\")\n",
    "finally:\n",
    "    print(\"Finishing the code.\")\n"
   ]
  },
  {
   "cell_type": "markdown",
   "id": "06d630dd-ad9f-4e6e-b4dd-01e18ad67ef4",
   "metadata": {},
   "source": [
    "## Example: Comprehensive Exception Handling"
   ]
  },
  {
   "cell_type": "code",
   "execution_count": 12,
   "id": "539b042b-fae6-452d-8efc-652d954f0cb4",
   "metadata": {},
   "outputs": [
    {
     "name": "stdout",
     "output_type": "stream",
     "text": [
      "Result: 5.0\n",
      "Operation completed.\n",
      "Error: Division by zero!\n",
      "Operation completed.\n",
      "Error: Both arguments must be numbers!\n",
      "Operation completed.\n"
     ]
    }
   ],
   "source": [
    "def divide_numbers(a, b):\n",
    "    try:\n",
    "        result = a / b\n",
    "    except ZeroDivisionError:\n",
    "        print(\"Error: Division by zero!\")\n",
    "    except TypeError:\n",
    "        print(\"Error: Both arguments must be numbers!\")\n",
    "    else:\n",
    "        print(\"Result:\", result)\n",
    "    finally:\n",
    "        print(\"Operation completed.\")\n",
    "\n",
    "divide_numbers(10, 2)  # Successful case\n",
    "divide_numbers(10, 0)  # Error case: division by zero\n",
    "divide_numbers(10, 'a')  # Error case: invalid type\n"
   ]
  },
  {
   "cell_type": "markdown",
   "id": "da6c291c-d511-4ede-aa30-8d4cc785e992",
   "metadata": {},
   "source": [
    "## Example: Handling Index Errors in Lists"
   ]
  },
  {
   "cell_type": "code",
   "execution_count": 13,
   "id": "2bdd5ae7-2eec-42b3-8e3b-61fc5526c01e",
   "metadata": {},
   "outputs": [
    {
     "name": "stdout",
     "output_type": "stream",
     "text": [
      "Oops! Index is out of range.\n"
     ]
    }
   ],
   "source": [
    "my_list = [1, 2, 3]\n",
    "\n",
    "try:\n",
    "    print(my_list[5])  # This will raise an IndexError because there is no index 5\n",
    "except IndexError:\n",
    "    print(\"Oops! Index is out of range.\")\n"
   ]
  },
  {
   "cell_type": "markdown",
   "id": "ef593798-5297-4164-8021-250114cb49f8",
   "metadata": {},
   "source": [
    "## Example: Handling Key Errors in Dictionaries"
   ]
  },
  {
   "cell_type": "code",
   "execution_count": 14,
   "id": "c422e9cf-dd67-4732-b46a-d44ef12afdd9",
   "metadata": {},
   "outputs": [
    {
     "name": "stdout",
     "output_type": "stream",
     "text": [
      "Oops! Key not found in the dictionary.\n"
     ]
    }
   ],
   "source": [
    "my_dict = {\"name\": \"Alice\", \"age\": 30}\n",
    "\n",
    "try:\n",
    "    print(my_dict[\"city\"])  # This will raise a KeyError because \"city\" is not a key in the dictionary\n",
    "except KeyError:\n",
    "    print(\"Oops! Key not found in the dictionary.\")\n"
   ]
  },
  {
   "cell_type": "markdown",
   "id": "33a81a3e-e867-4f0d-8c07-532ee497e8ee",
   "metadata": {},
   "source": [
    "## Example: Handling Type Errors when Working with Lists"
   ]
  },
  {
   "cell_type": "code",
   "execution_count": 15,
   "id": "a43147b9-f167-4919-b3a4-8864b5a4f6ad",
   "metadata": {},
   "outputs": [
    {
     "name": "stdout",
     "output_type": "stream",
     "text": [
      "Oops! Cannot add a string to an integer.\n"
     ]
    }
   ],
   "source": [
    "my_list = [1, 2, 3]\n",
    "\n",
    "try:\n",
    "    my_list[0] += \"a\"  # This will raise a TypeError because you can't add a string to an integer\n",
    "except TypeError:\n",
    "    print(\"Oops! Cannot add a string to an integer.\")\n"
   ]
  },
  {
   "cell_type": "markdown",
   "id": "c860f7b3-cac2-4137-943f-803b56a1fd5d",
   "metadata": {},
   "source": [
    "## Example: Using else and finally with Dictionary"
   ]
  },
  {
   "cell_type": "code",
   "execution_count": 16,
   "id": "d39e693e-178e-4251-9230-633a593163fb",
   "metadata": {},
   "outputs": [
    {
     "name": "stdout",
     "output_type": "stream",
     "text": [
      "City added successfully.\n",
      "Operation complete.\n"
     ]
    }
   ],
   "source": [
    "my_dict = {\"name\": \"Alice\", \"age\": 30}\n",
    "\n",
    "try:\n",
    "    # Attempt to access a non-existent key\n",
    "    my_dict[\"city\"] = \"New York\"\n",
    "except KeyError:\n",
    "    print(\"Key not found!\")\n",
    "else:\n",
    "    print(\"City added successfully.\")\n",
    "finally:\n",
    "    print(\"Operation complete.\")\n"
   ]
  },
  {
   "cell_type": "markdown",
   "id": "6725add0-b9a8-4deb-a1cb-58dc729609b9",
   "metadata": {},
   "source": [
    "## Example: Handling Multiple Errors with Dicts"
   ]
  },
  {
   "cell_type": "code",
   "execution_count": 17,
   "id": "f59fdee3-95ff-487b-9e56-1ddd70ffd61a",
   "metadata": {},
   "outputs": [
    {
     "name": "stdout",
     "output_type": "stream",
     "text": [
      "Error: list index out of range\n"
     ]
    }
   ],
   "source": [
    "my_list = [1, 2, 3]\n",
    "my_dict = {\"name\": \"Alice\", \"age\": 30}\n",
    "\n",
    "try:\n",
    "    # Accessing list index and dictionary key that don't exist\n",
    "    print(my_list[5])  # IndexError\n",
    "    print(my_dict[\"city\"])  # KeyError\n",
    "except (IndexError, KeyError) as e:\n",
    "    print(f\"Error: {e}\")\n"
   ]
  },
  {
   "cell_type": "code",
   "execution_count": null,
   "id": "820b55d0-1721-452a-9724-545d67faa869",
   "metadata": {},
   "outputs": [],
   "source": []
  }
 ],
 "metadata": {
  "kernelspec": {
   "display_name": "Python 3 (ipykernel)",
   "language": "python",
   "name": "python3"
  },
  "language_info": {
   "codemirror_mode": {
    "name": "ipython",
    "version": 3
   },
   "file_extension": ".py",
   "mimetype": "text/x-python",
   "name": "python",
   "nbconvert_exporter": "python",
   "pygments_lexer": "ipython3",
   "version": "3.13.2"
  }
 },
 "nbformat": 4,
 "nbformat_minor": 5
}
