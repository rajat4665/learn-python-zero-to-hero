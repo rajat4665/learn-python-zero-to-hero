{
 "cells": [
  {
   "cell_type": "markdown",
   "id": "ecb70f93-b2df-425e-b7a7-30ab89a603e0",
   "metadata": {},
   "source": [
    "# Python Conditional Flow Control: if, elif, else\n",
    "\n",
    "In Python, conditional statements are used to control the flow of a program based on specific conditions. The most common conditional constructs are:\n",
    "\n",
    "- `if`: Checks a condition and executes a block of code if it's true.\n",
    "- `elif` (else if): Checks another condition if the previous `if` was false.\n",
    "- `else`: Executes a block of code if none of the previous conditions were true.\n",
    "\n",
    "### Why Use Conditional Statements?\n",
    "They help programs make decisions, such as validating input, controlling program logic, or handling different types of data.\n",
    "\n",
    "---\n",
    "\n",
    "## 🧠 Basic Syntax\n",
    "\n",
    "```python\n",
    "if condition:\n",
    "    # code block\n",
    "elif another_condition:\n",
    "    # another code block\n",
    "else:\n",
    "    # fallback code block\n"
   ]
  },
  {
   "cell_type": "markdown",
   "id": "a6d55662-3dba-46bd-b8ff-a7e341d375c3",
   "metadata": {},
   "source": [
    "## 🔍 Examples by Data Type and Its Behavior Across Different Data Types\n",
    "\n",
    "Conditional statements in Python (`if`, `elif`, `else`) behave differently based on the **data type** of the values being evaluated. Here's how conditionals interact with various common data types:\n",
    "\n"
   ]
  },
  {
   "cell_type": "markdown",
   "id": "a1cfe342-416f-408b-b8a5-0348448149a9",
   "metadata": {},
   "source": [
    "## 🔢 Integer and Float Comparison Operators in Python\n",
    "\n",
    "In Python, the `int` (integer) data type supports several comparison operators. These operators return a boolean value (`True` or `False`) and are commonly used in conditional statements (`if`, `elif`, `else`).\n",
    "\n",
    "### ✅ Supported Comparison Operators for Integers:\n",
    "\n",
    "| Operator | Description              |\n",
    "|----------|--------------------------|\n",
    "| `==`     | Equal to                 |\n",
    "| `!=`     | Not equal to             |\n",
    "| `>`      | Greater than             |\n",
    "| `<`      | Less than                |\n",
    "| `>=`     | Greater than or equal to |\n",
    "| `<=`     | Less than or equal to    |\n",
    "\n",
    "---\n"
   ]
  },
  {
   "cell_type": "code",
   "execution_count": 1,
   "id": "70ccbf7a-e44d-4171-b679-aa8383686308",
   "metadata": {},
   "outputs": [
    {
     "name": "stdout",
     "output_type": "stream",
     "text": [
      "x is equal to z\n",
      "x is not equal to y\n",
      "y is greater than x\n",
      "x is lessor than 100\n",
      "y is greater than equal to y2\n",
      "x is Less than equal to y2\n"
     ]
    }
   ],
   "source": [
    "x = 42\n",
    "z = 42\n",
    "y = 47\n",
    "y2 = 47\n",
    "\n",
    "if x == z:\n",
    "    print(\"x is equal to z\")\n",
    "\n",
    "if x != y:\n",
    "    print(\"x is not equal to y\")\n",
    "\n",
    "if y > x:\n",
    "    print(\"y is greater than x\")\n",
    "    \n",
    "if x < 100:\n",
    "    print(\"x is lessor than 100\")\n",
    "\n",
    "if y >= y2:\n",
    "    print(\"y is greater than equal to y2\")\n",
    "\n",
    "if x <= y2:\n",
    "    print(\"x is Less than equal to y2\")\n"
   ]
  },
  {
   "cell_type": "code",
   "execution_count": null,
   "id": "3b8f4940-44b0-4218-bc70-f2dd7aab241a",
   "metadata": {},
   "outputs": [],
   "source": []
  },
  {
   "cell_type": "markdown",
   "id": "58c3b0cc-671f-4ee3-bbd3-f87db9d198f3",
   "metadata": {},
   "source": [
    "## ✅ Supported `if` Conditions for Strings in Python\n",
    "\n",
    "In Python, you can use several kinds of `if` conditions to work with strings effectively. These include:\n",
    "\n"
   ]
  },
  {
   "cell_type": "markdown",
   "id": "5772d984-fe38-41a4-ab10-6555778b0d8f",
   "metadata": {},
   "source": [
    "### 1. `==` and `!=` for Equality\n",
    "\n",
    "```python"
   ]
  },
  {
   "cell_type": "code",
   "execution_count": 2,
   "id": "f8579d73-f169-4590-874c-d92c736f4413",
   "metadata": {},
   "outputs": [
    {
     "name": "stdout",
     "output_type": "stream",
     "text": [
      "Welcome, admin\n"
     ]
    }
   ],
   "source": [
    "username = \"admin\"\n",
    "if username == \"admin\":\n",
    "    print(\"Welcome, admin\")\n",
    "\n"
   ]
  },
  {
   "cell_type": "markdown",
   "id": "376c492a-e740-42c1-b3f5-89a5fb1645e4",
   "metadata": {},
   "source": [
    "## 2. in and not in for Substring Checks\n"
   ]
  },
  {
   "cell_type": "code",
   "execution_count": 3,
   "id": "3c293b3e-ca37-4bd2-86f7-854de992a6c7",
   "metadata": {},
   "outputs": [
    {
     "name": "stdout",
     "output_type": "stream",
     "text": [
      "Valid email address\n"
     ]
    }
   ],
   "source": [
    "email = \"user@example.com\"\n",
    "if \"@\" in email:\n",
    "    print(\"Valid email address\")\n"
   ]
  },
  {
   "cell_type": "code",
   "execution_count": 4,
   "id": "b76afab0-07ba-42f8-822d-40d48f61b7bd",
   "metadata": {},
   "outputs": [
    {
     "name": "stdout",
     "output_type": "stream",
     "text": [
      "Name does not contain 'x'\n"
     ]
    }
   ],
   "source": [
    "name = \"Charlie\"\n",
    "if \"x\" not in name:\n",
    "    print(\"Name does not contain 'x'\")\n"
   ]
  },
  {
   "cell_type": "markdown",
   "id": "be5c1769-da44-48a7-87bd-cd977cd5e800",
   "metadata": {},
   "source": [
    "## 3. len() to Check String Length\n"
   ]
  },
  {
   "cell_type": "code",
   "execution_count": 5,
   "id": "c1563be7-83c0-4ae6-9f43-d3754a7c7c41",
   "metadata": {},
   "outputs": [
    {
     "name": "stdout",
     "output_type": "stream",
     "text": [
      "Password is strong\n"
     ]
    }
   ],
   "source": [
    "password = \"mypwd123\"\n",
    "if len(password) >= 8:\n",
    "    print(\"Password is strong\")\n",
    "else:\n",
    "    print(\"Password is too short\")\n"
   ]
  },
  {
   "cell_type": "markdown",
   "id": "fc5024f4-856f-4a84-a287-4145963f1226",
   "metadata": {},
   "source": [
    "## 4. .startswith() and .endswith()\n"
   ]
  },
  {
   "cell_type": "code",
   "execution_count": 6,
   "id": "91bfc7dc-1e49-4503-ac03-548bc23cef82",
   "metadata": {},
   "outputs": [
    {
     "name": "stdout",
     "output_type": "stream",
     "text": [
      "Secure URL\n"
     ]
    }
   ],
   "source": [
    "url = \"https://example.com\"\n",
    "if url.startswith(\"https://\"):\n",
    "    print(\"Secure URL\")\n"
   ]
  },
  {
   "cell_type": "code",
   "execution_count": 7,
   "id": "7129606f-4f00-4170-99fc-d58ddbebee97",
   "metadata": {},
   "outputs": [
    {
     "name": "stdout",
     "output_type": "stream",
     "text": [
      "PDF file detected\n"
     ]
    }
   ],
   "source": [
    "filename = \"report.pdf\"\n",
    "if filename.endswith(\".pdf\"):\n",
    "    print(\"PDF file detected\")\n"
   ]
  },
  {
   "cell_type": "markdown",
   "id": "8c395bbb-f957-4040-ab86-64ea58715183",
   "metadata": {},
   "source": [
    "## 5. .isalpha(), .isdigit(), .isalnum(), .isspace()\n"
   ]
  },
  {
   "cell_type": "code",
   "execution_count": 8,
   "id": "ba09be21-42a9-4deb-9d20-3a3ca8ecd165",
   "metadata": {},
   "outputs": [
    {
     "name": "stdout",
     "output_type": "stream",
     "text": [
      "Only letters\n"
     ]
    }
   ],
   "source": [
    "text = \"Hello\"\n",
    "if text.isalpha():\n",
    "    print(\"Only letters\")\n"
   ]
  },
  {
   "cell_type": "code",
   "execution_count": 9,
   "id": "8f34ca94-adf0-4276-a65c-fd3fbf2ea206",
   "metadata": {},
   "outputs": [
    {
     "name": "stdout",
     "output_type": "stream",
     "text": [
      "Contains only digits\n"
     ]
    }
   ],
   "source": [
    "code = \"1234\"\n",
    "if code.isdigit():\n",
    "    print(\"Contains only digits\")\n"
   ]
  },
  {
   "cell_type": "code",
   "execution_count": 10,
   "id": "0f2ec5a9-0310-4826-952d-87807b00699a",
   "metadata": {},
   "outputs": [
    {
     "name": "stdout",
     "output_type": "stream",
     "text": [
      "False\n"
     ]
    }
   ],
   "source": [
    "text = \"Hello World!\"\n",
    "print(text.isalnum())  # False, due to space and \"!\"\n"
   ]
  },
  {
   "cell_type": "code",
   "execution_count": 11,
   "id": "48d22bd4-3511-44ba-9636-ec54a1e6758f",
   "metadata": {},
   "outputs": [
    {
     "name": "stdout",
     "output_type": "stream",
     "text": [
      "The string contains only whitespace\n"
     ]
    }
   ],
   "source": [
    "space_string = \"   \"\n",
    "\n",
    "if space_string.isspace():\n",
    "    print(\"The string contains only whitespace\")\n",
    "else:\n",
    "    print(\"The string has non-whitespace characters\")\n"
   ]
  },
  {
   "cell_type": "markdown",
   "id": "08d7ccc2-d67e-47f7-9a9b-efd439de54ce",
   "metadata": {},
   "source": [
    "## 6. Check for Empty or Non-Empty Strings\n"
   ]
  },
  {
   "cell_type": "code",
   "execution_count": 12,
   "id": "d1bc5f9b-ac85-4071-9690-379110aaad50",
   "metadata": {},
   "outputs": [
    {
     "name": "stdout",
     "output_type": "stream",
     "text": [
      "No message\n"
     ]
    }
   ],
   "source": [
    "message = \"\"\n",
    "\n",
    "if message:\n",
    "    print(\"Message received\")\n",
    "else:\n",
    "    print(\"No message\")\n"
   ]
  },
  {
   "cell_type": "markdown",
   "id": "19ee4514-f5e4-4715-a8e4-7da629d1da3c",
   "metadata": {},
   "source": [
    "## ✅ Boolean and NoneType in Conditional Statements\n",
    "\n",
    "Python provides special types like `bool` and `NoneType`, which are often used in conditional logic. Understanding their behavior is essential for controlling the flow of your programs.\n",
    "\n",
    "---\n",
    "\n",
    "### 🔘 Boolean (`True` / `False`)\n",
    "\n",
    "The `bool` type represents one of two values: `True` or `False`."
   ]
  },
  {
   "cell_type": "code",
   "execution_count": 13,
   "id": "14734b3f-942c-437e-8aae-d154fc321521",
   "metadata": {},
   "outputs": [
    {
     "name": "stdout",
     "output_type": "stream",
     "text": [
      "Number is non-zero\n"
     ]
    }
   ],
   "source": [
    "number = 5\n",
    "\n",
    "if bool(number):\n",
    "    print(\"Number is non-zero\")\n",
    "else:\n",
    "    print(\"Number is zero\")\n"
   ]
  },
  {
   "cell_type": "code",
   "execution_count": 14,
   "id": "bce2c39a-9771-480b-adf1-1ec51aaa8338",
   "metadata": {},
   "outputs": [
    {
     "name": "stdout",
     "output_type": "stream",
     "text": [
      "List is empty\n"
     ]
    }
   ],
   "source": [
    "empty_list = []\n",
    "\n",
    "if bool(empty_list):\n",
    "    print(\"List is not empty\")\n",
    "else:\n",
    "    print(\"List is empty\")\n"
   ]
  },
  {
   "cell_type": "markdown",
   "id": "5946c95f-87d9-4241-a04e-36be7d65d1f3",
   "metadata": {},
   "source": [
    "## ❌ NoneType (None)\n"
   ]
  },
  {
   "cell_type": "code",
   "execution_count": 15,
   "id": "f8a10b55-9e51-4ed8-b423-3cbc4ae9de02",
   "metadata": {},
   "outputs": [
    {
     "name": "stdout",
     "output_type": "stream",
     "text": [
      "No input received\n"
     ]
    }
   ],
   "source": [
    "user_input = None\n",
    "\n",
    "if user_input is None:\n",
    "    print(\"No input received\")\n",
    "else:\n",
    "    print(\"Input received\")\n"
   ]
  },
  {
   "cell_type": "markdown",
   "id": "eecbac51-87c1-4a23-a646-09d55cae9e0e",
   "metadata": {},
   "source": [
    "## ✅ Supported Conditional Statements for Lists in Python\n",
    "\n",
    "Lists in Python are versatile collections that can hold multiple items. You can use different conditional checks to evaluate lists in `if` statements. Below are some of the most common ways to work with lists in conditional statements.\n",
    "\n"
   ]
  },
  {
   "cell_type": "markdown",
   "id": "a0467215-4f9f-4ee8-848c-af19f32fdd4e",
   "metadata": {},
   "source": [
    "### 1. **Check if a List is Non-Empty**\n",
    "\n",
    "In Python, empty lists evaluate to `False`, and non-empty lists evaluate to `True`. This makes it easy to check whether a list contains any elements.\n",
    "```"
   ]
  },
  {
   "cell_type": "code",
   "execution_count": 16,
   "id": "814d0f7c-d962-4712-8021-28c49dc075b3",
   "metadata": {},
   "outputs": [
    {
     "name": "stdout",
     "output_type": "stream",
     "text": [
      "The list is not empty\n"
     ]
    }
   ],
   "source": [
    "\n",
    "fruits = [\"apple\", \"banana\", \"cherry\"]\n",
    "\n",
    "if fruits:\n",
    "    print(\"The list is not empty\")\n",
    "else:\n",
    "    print(\"The list is empty\")"
   ]
  },
  {
   "cell_type": "markdown",
   "id": "50762868-895a-4cb5-bea7-37b7d6f17845",
   "metadata": {},
   "source": [
    "## 2. Check if a List is Empty\n"
   ]
  },
  {
   "cell_type": "code",
   "execution_count": 17,
   "id": "45441959-009f-460b-98d6-513fd329c84f",
   "metadata": {},
   "outputs": [
    {
     "name": "stdout",
     "output_type": "stream",
     "text": [
      "The list is empty\n"
     ]
    }
   ],
   "source": [
    "numbers = []\n",
    "\n",
    "if not numbers:\n",
    "    print(\"The list is empty\")\n",
    "else:\n",
    "    print(\"The list contains elements\")\n"
   ]
  },
  {
   "cell_type": "markdown",
   "id": "ad9c73fc-2f05-450b-994d-db00e26b56e5",
   "metadata": {},
   "source": [
    "## 3. Check for Membership Using in and not in\n"
   ]
  },
  {
   "cell_type": "code",
   "execution_count": 18,
   "id": "51a39c82-1d4a-4844-bca9-a1f24ef71208",
   "metadata": {},
   "outputs": [
    {
     "name": "stdout",
     "output_type": "stream",
     "text": [
      "Banana is in the list\n",
      "Grape is not in the list\n"
     ]
    }
   ],
   "source": [
    "fruits = [\"apple\", \"banana\", \"cherry\"]\n",
    "\n",
    "if \"banana\" in fruits:\n",
    "    print(\"Banana is in the list\")\n",
    "\n",
    "if \"grape\" not in fruits:\n",
    "    print(\"Grape is not in the list\")\n"
   ]
  },
  {
   "cell_type": "markdown",
   "id": "bcb1b7cf-fec4-4e60-8d33-a2fbc1117828",
   "metadata": {},
   "source": [
    "## 4. Check the Length of a List Using len()\n"
   ]
  },
  {
   "cell_type": "code",
   "execution_count": 19,
   "id": "a4bb6c41-2113-4038-9091-231d12b37c98",
   "metadata": {},
   "outputs": [
    {
     "name": "stdout",
     "output_type": "stream",
     "text": [
      "The shopping cart has 3 or fewer items\n"
     ]
    }
   ],
   "source": [
    "shopping_cart = [\"milk\", \"bread\", \"eggs\"]\n",
    "\n",
    "if len(shopping_cart) > 3:\n",
    "    print(\"The shopping cart has more than 3 items\")\n",
    "else:\n",
    "    print(\"The shopping cart has 3 or fewer items\")\n"
   ]
  },
  {
   "cell_type": "markdown",
   "id": "dc96f934-1c40-4543-8fb5-7ee9696596d2",
   "metadata": {},
   "source": [
    "## ✅ Supported Conditional Statements for Dictionaries in Python\n",
    "\n",
    "Dictionaries in Python are key-value pairs. You can perform various conditional checks to evaluate the presence of keys, values, or check specific conditions within dictionaries.\n"
   ]
  },
  {
   "cell_type": "markdown",
   "id": "d354b1a8-3590-4298-b9c6-d2bb645b2499",
   "metadata": {},
   "source": [
    "## 1. **Check if a Dictionary is Non-Empty**\n"
   ]
  },
  {
   "cell_type": "code",
   "execution_count": 20,
   "id": "7ab5db8f-9be7-44c7-847e-cf9059c2cc85",
   "metadata": {},
   "outputs": [
    {
     "name": "stdout",
     "output_type": "stream",
     "text": [
      "The dictionary is not empty\n"
     ]
    }
   ],
   "source": [
    "my_dict = {\"name\": \"Alice\", \"age\": 25}\n",
    "\n",
    "if my_dict:\n",
    "    print(\"The dictionary is not empty\")\n",
    "else:\n",
    "    print(\"The dictionary is empty\")"
   ]
  },
  {
   "cell_type": "markdown",
   "id": "31e3bce2-0db1-480f-842d-a5743a5b9834",
   "metadata": {},
   "source": [
    "## 2. Check if a Dictionary is Empty\n"
   ]
  },
  {
   "cell_type": "code",
   "execution_count": 21,
   "id": "107ac5a1-ad08-4ae2-8c23-00f43e65af6d",
   "metadata": {},
   "outputs": [
    {
     "name": "stdout",
     "output_type": "stream",
     "text": [
      "The dictionary is empty\n"
     ]
    }
   ],
   "source": [
    "my_dict = {}\n",
    "\n",
    "if not my_dict:\n",
    "    print(\"The dictionary is empty\")\n",
    "else:\n",
    "    print(\"The dictionary contains items\")\n"
   ]
  },
  {
   "cell_type": "markdown",
   "id": "2be2f725-4518-40d4-b1b7-a6d6c892fe69",
   "metadata": {},
   "source": [
    "## 3. Check if a Key Exists Using in\n"
   ]
  },
  {
   "cell_type": "code",
   "execution_count": 22,
   "id": "ddb19239-f5f1-4a75-a519-0d48d6803b6e",
   "metadata": {},
   "outputs": [
    {
     "name": "stdout",
     "output_type": "stream",
     "text": [
      "The key 'name' exists in the dictionary\n"
     ]
    }
   ],
   "source": [
    "person = {\"name\": \"Bob\", \"age\": 30}\n",
    "\n",
    "if \"name\" in person:\n",
    "    print(\"The key 'name' exists in the dictionary\")\n"
   ]
  },
  {
   "cell_type": "markdown",
   "id": "c1008523-d270-4941-9480-83fef2c736a7",
   "metadata": {},
   "source": [
    "## 4. Check if a Key Does Not Exist Using not in\n"
   ]
  },
  {
   "cell_type": "code",
   "execution_count": 23,
   "id": "0b777703-399c-45c6-ab25-cb017d591c37",
   "metadata": {},
   "outputs": [
    {
     "name": "stdout",
     "output_type": "stream",
     "text": [
      "The key 'address' does not exist in the dictionary\n"
     ]
    }
   ],
   "source": [
    "person = {\"name\": \"Bob\", \"age\": 30}\n",
    "\n",
    "if \"address\" not in person:\n",
    "    print(\"The key 'address' does not exist in the dictionary\")\n"
   ]
  },
  {
   "cell_type": "markdown",
   "id": "5ffc0205-4a44-4c90-b42b-b1a0d0cfdfe6",
   "metadata": {},
   "source": [
    "## 5. Accessing a Value with get() and Conditional Check\n"
   ]
  },
  {
   "cell_type": "code",
   "execution_count": 24,
   "id": "ffd791fe-35af-4ccd-bd5a-c85b92d14e8c",
   "metadata": {},
   "outputs": [
    {
     "name": "stdout",
     "output_type": "stream",
     "text": [
      "The name is Bob\n"
     ]
    }
   ],
   "source": [
    "person = {\"name\": \"Bob\", \"age\": 30}\n",
    "\n",
    "name = person.get(\"name\")\n",
    "if name:\n",
    "    print(f\"The name is {name}\")\n",
    "else:\n",
    "    print(\"No name found\")\n"
   ]
  },
  {
   "cell_type": "markdown",
   "id": "e7a39ec2-b665-47a2-9e9d-1060e072c10c",
   "metadata": {},
   "source": [
    "## 6. Check if a Value Exists in the Dictionary\n"
   ]
  },
  {
   "cell_type": "code",
   "execution_count": 25,
   "id": "cdb28e99-089f-436f-8cfb-ecffa04f42f9",
   "metadata": {},
   "outputs": [
    {
     "name": "stdout",
     "output_type": "stream",
     "text": [
      "Value 30 is present in the dictionary\n"
     ]
    }
   ],
   "source": [
    "person = {\"name\": \"Bob\", \"age\": 30}\n",
    "\n",
    "if 30 in person.values():\n",
    "    print(\"Value 30 is present in the dictionary\")\n"
   ]
  },
  {
   "cell_type": "code",
   "execution_count": null,
   "id": "9fa12d85-dee9-4208-82c8-0907513535ad",
   "metadata": {},
   "outputs": [],
   "source": []
  }
 ],
 "metadata": {
  "kernelspec": {
   "display_name": "Python 3 (ipykernel)",
   "language": "python",
   "name": "python3"
  },
  "language_info": {
   "codemirror_mode": {
    "name": "ipython",
    "version": 3
   },
   "file_extension": ".py",
   "mimetype": "text/x-python",
   "name": "python",
   "nbconvert_exporter": "python",
   "pygments_lexer": "ipython3",
   "version": "3.13.2"
  }
 },
 "nbformat": 4,
 "nbformat_minor": 5
}
