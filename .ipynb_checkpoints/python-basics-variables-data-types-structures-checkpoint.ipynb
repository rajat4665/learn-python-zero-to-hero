{
 "cells": [
  {
   "cell_type": "markdown",
   "id": "01aa57fc-490d-498c-85b0-737bac32cd04",
   "metadata": {},
   "source": [
    "## Basic of Python"
   ]
  },
  {
   "cell_type": "code",
   "execution_count": 1,
   "id": "7dbdd497-bcb6-4f95-82ff-194f3625b050",
   "metadata": {},
   "outputs": [],
   "source": [
    "# why Python over other languates\n",
    "# Easy to understand, trending, lot of jobs, compatible with many fields like, Data Science, Data Engineering, Web development, Web Scraping etc\n",
    "\n",
    "# why we learn python\n",
    "# To get a job, i jsut learned to build my custom softwares\n"
   ]
  },
  {
   "cell_type": "markdown",
   "id": "117ae1da-bd06-4df9-a67b-922a98a852af",
   "metadata": {},
   "source": [
    "### What is varibale"
   ]
  },
  {
   "cell_type": "code",
   "execution_count": 2,
   "id": "5673f915-7eb5-4c3a-bccb-d25b77ae66d4",
   "metadata": {},
   "outputs": [],
   "source": [
    "# varibale is a just like empty box which we use to store any type of data, it store its memory location \n",
    "\n",
    "first_varibale = \"Hello World\"\n",
    "\n",
    "# look we created out first variable just using a random name and using assign operator = "
   ]
  },
  {
   "cell_type": "markdown",
   "id": "d83a6cf2-5918-420c-b583-60511a36c553",
   "metadata": {},
   "source": [
    "## Permitive data types"
   ]
  },
  {
   "cell_type": "markdown",
   "id": "0768cb05-4a88-4ba3-ba83-e7fa14600d3c",
   "metadata": {},
   "source": [
    "## 🔢 1. Integer (`int`)\n"
   ]
  },
  {
   "cell_type": "code",
   "execution_count": 3,
   "id": "f1ab99ce-2afc-4ad4-94dd-44fc15735cf0",
   "metadata": {},
   "outputs": [
    {
     "name": "stdout",
     "output_type": "stream",
     "text": [
      "10\n",
      "<class 'int'>\n",
      "-42\n",
      "<class 'int'>\n"
     ]
    }
   ],
   "source": [
    "# Used for whole numbers (positive or negative).\n",
    "a = 10\n",
    "b = -42\n",
    "# we use print statement to see what insde the variable\n",
    "print(a)\n",
    "\n",
    "# we use type to check type of the variable\n",
    "print(type(a)) # <class 'int'>\n",
    "print(b)\n",
    "print(type(b)) # <class 'int'>\n"
   ]
  },
  {
   "cell_type": "markdown",
   "id": "f6ec6066-9b30-4ed2-833d-62b43dd20018",
   "metadata": {},
   "source": [
    "## 🔢 2. Floating Point (float)\n"
   ]
  },
  {
   "cell_type": "code",
   "execution_count": 4,
   "id": "27812637-3409-47e7-b904-5c766324ed11",
   "metadata": {},
   "outputs": [
    {
     "name": "stdout",
     "output_type": "stream",
     "text": [
      "3.1415\n",
      "<class 'float'>\n",
      "-99.99\n",
      "<class 'float'>\n"
     ]
    }
   ],
   "source": [
    "pi = 3.1415\n",
    "price = -99.99\n",
    "\n",
    "print(pi)\n",
    "print(type(pi)) # <class 'float'>\n",
    "\n",
    "print(price)\n",
    "print(type(price)) # <class 'float'>\n"
   ]
  },
  {
   "cell_type": "markdown",
   "id": "84dcc74c-9b0f-4503-b6c4-deee3ab8b8a2",
   "metadata": {},
   "source": [
    "## 🧵 3. String (str)\n"
   ]
  },
  {
   "cell_type": "code",
   "execution_count": 5,
   "id": "969bb6bc-e79c-43fb-a72a-46a972161816",
   "metadata": {},
   "outputs": [
    {
     "name": "stdout",
     "output_type": "stream",
     "text": [
      "Alice\n",
      "<class 'str'>\n",
      "Hello, World!\n",
      "<class 'str'>\n",
      "\n",
      "\n",
      "5\n",
      "\n",
      "A\n",
      "l\n",
      "W\n",
      "e\n",
      "!\n",
      "\n",
      "World\n"
     ]
    }
   ],
   "source": [
    "name = \"Alice\"\n",
    "greeting = 'Hello, World!'\n",
    "\n",
    "print(name)\n",
    "print(type(name)) # <class 'str'>\n",
    "\n",
    "print(greeting)\n",
    "print(type(greeting)) # <class 'str'>\n",
    "print()\n",
    "# we can check len of the string using len keyword\n",
    "print()\n",
    "print(len(name))\n",
    "print()\n",
    "# we can access specific char using index index starts from 0 to len(n) - 1 \n",
    "# Accessing characters using positive indices\n",
    "print(name[0])  # 'A'\n",
    "print(name[1])  # 'l'\n",
    "print(greeting[7])  # 'W'\n",
    "\n",
    "# Accessing characters using negative indices (from the end)\n",
    "print(name[-1])  # 'e'\n",
    "print(greeting[-1])  # '!' (last character)\n",
    "\n",
    "# Splice over the string\n",
    "# how slice is working [start_index: end_index], like we did bellow here greeting[7] => w and greeting[12] ends at => d\n",
    "print()\n",
    "print(greeting[7:12])"
   ]
  },
  {
   "cell_type": "markdown",
   "id": "e64a8f55-7779-4857-8648-8d1602ccd7b2",
   "metadata": {},
   "source": [
    "## ✅ 4. Boolean (bool)\n"
   ]
  },
  {
   "cell_type": "code",
   "execution_count": 6,
   "id": "e1d5cd01-ecd8-4fd9-8351-01d82b8d424c",
   "metadata": {},
   "outputs": [
    {
     "name": "stdout",
     "output_type": "stream",
     "text": [
      "True\n",
      "<class 'bool'>\n"
     ]
    }
   ],
   "source": [
    "is_active = True\n",
    "is_logged_in = False\n",
    "print(is_active)\n",
    "print(type(is_active))  # <class 'bool'>\n"
   ]
  },
  {
   "cell_type": "markdown",
   "id": "c931487e-cba8-4ae9-886f-1839eb951e99",
   "metadata": {},
   "source": [
    "## 🛑 NoneType\n"
   ]
  },
  {
   "cell_type": "code",
   "execution_count": 7,
   "id": "a1ba8094-c6d8-4b93-b47c-8adeeb7d87df",
   "metadata": {},
   "outputs": [
    {
     "name": "stdout",
     "output_type": "stream",
     "text": [
      "None\n",
      "<class 'NoneType'>\n"
     ]
    }
   ],
   "source": [
    "x = None\n",
    "print(x)           # Output: None\n",
    "print(type(x))     "
   ]
  },
  {
   "cell_type": "markdown",
   "id": "2a6f2707-3ff5-4212-8752-6ae5901ecd6d",
   "metadata": {},
   "source": [
    "# Type Conversion in Python"
   ]
  },
  {
   "cell_type": "code",
   "execution_count": 8,
   "id": "f4e6ed99-43e1-4cbb-ad87-83ca38781071",
   "metadata": {},
   "outputs": [],
   "source": [
    "# Python allows you to convert values from one type to another using built-in functions like int(), float(), str(), and bool().\n"
   ]
  },
  {
   "cell_type": "markdown",
   "id": "67234e9c-22d3-41e7-950d-172916b523d8",
   "metadata": {},
   "source": [
    "## 🔁 1. int(\"42\") → Convert string to integer\n"
   ]
  },
  {
   "cell_type": "code",
   "execution_count": 9,
   "id": "568d0c4a-44fe-4994-93e5-d87bf4c7be1a",
   "metadata": {},
   "outputs": [
    {
     "name": "stdout",
     "output_type": "stream",
     "text": [
      "<class 'str'>\n",
      "42\n",
      "<class 'int'>\n"
     ]
    }
   ],
   "source": [
    "value_str = \"42\"                  # Original: str\n",
    "print(type(value_str))            # <class 'str'>\n",
    "\n",
    "value_int = int(value_str)        # Converted to int\n",
    "print(value_int)                  # Output: 42\n",
    "print(type(value_int))            # <class 'int'>\n"
   ]
  },
  {
   "cell_type": "markdown",
   "id": "abec4d01-af3e-4356-a19b-7259bb5e7f39",
   "metadata": {},
   "source": [
    "## 🔁 2. float(\"3.14\") → Convert string to float\n"
   ]
  },
  {
   "cell_type": "code",
   "execution_count": 10,
   "id": "306a1e00-4807-4433-9a08-6efb7978dccb",
   "metadata": {},
   "outputs": [
    {
     "name": "stdout",
     "output_type": "stream",
     "text": [
      "<class 'str'>\n",
      "3.14\n",
      "<class 'float'>\n"
     ]
    }
   ],
   "source": [
    "value_str = \"3.14\"                # Original: str\n",
    "print(type(value_str))            # <class 'str'>\n",
    "\n",
    "value_float = float(value_str)    # Converted to float\n",
    "print(value_float)                # Output: 3.14\n",
    "print(type(value_float))          # <class 'float'>\n"
   ]
  },
  {
   "cell_type": "markdown",
   "id": "669b542a-c9f8-4e50-834d-27211d6f3be5",
   "metadata": {},
   "source": [
    "## 🔁 3. str(100) → Convert integer to string\n"
   ]
  },
  {
   "cell_type": "code",
   "execution_count": 11,
   "id": "57a1609d-7ee0-4777-98d0-8b15d141d904",
   "metadata": {},
   "outputs": [
    {
     "name": "stdout",
     "output_type": "stream",
     "text": [
      "<class 'int'>\n",
      "100\n",
      "<class 'str'>\n"
     ]
    }
   ],
   "source": [
    "value_int = 100                   # Original: int\n",
    "print(type(value_int))            # <class 'int'>\n",
    "\n",
    "value_str = str(value_int)        # Converted to str\n",
    "print(value_str)                  # Output: '100'\n",
    "print(type(value_str))            # <class 'str'>\n"
   ]
  },
  {
   "cell_type": "markdown",
   "id": "c37d56af-4e87-4c81-a87d-655344d03c23",
   "metadata": {},
   "source": [
    "## 🔁 4. bool(0) → Convert integer to boolean\n"
   ]
  },
  {
   "cell_type": "code",
   "execution_count": 12,
   "id": "fbbf8c7b-07b8-46cd-92f4-1bf1099042cf",
   "metadata": {},
   "outputs": [
    {
     "name": "stdout",
     "output_type": "stream",
     "text": [
      "<class 'int'>\n",
      "False\n",
      "<class 'bool'>\n"
     ]
    }
   ],
   "source": [
    "value_num = 0                     # Original: int\n",
    "print(type(value_num))            # <class 'int'>\n",
    "\n",
    "value_bool = bool(value_num)      # Converted to bool\n",
    "print(value_bool)                 # Output: False\n",
    "print(type(value_bool))           # <class 'bool'>\n"
   ]
  },
  {
   "cell_type": "markdown",
   "id": "84abf38f-da65-443a-b5a9-7505c5ab8077",
   "metadata": {},
   "source": [
    "# 🔗 String Concatenation in Python\n"
   ]
  },
  {
   "cell_type": "markdown",
   "id": "3958f9db-edcf-4e46-9705-ade201c6a19d",
   "metadata": {},
   "source": [
    "### 🔤 1. Using + Operator\n"
   ]
  },
  {
   "cell_type": "code",
   "execution_count": 13,
   "id": "031b3977-851d-4686-882c-51a88ec1ccc9",
   "metadata": {},
   "outputs": [
    {
     "name": "stdout",
     "output_type": "stream",
     "text": [
      "Alice Smith\n"
     ]
    }
   ],
   "source": [
    "first_name = \"Alice\"\n",
    "last_name = \"Smith\"\n",
    "full_name = first_name + \" \" + last_name\n",
    "\n",
    "print(full_name)  # Output: Alice Smith\n"
   ]
  },
  {
   "cell_type": "code",
   "execution_count": 14,
   "id": "8a10bd90-7d52-4785-9252-2f17ef9e4622",
   "metadata": {},
   "outputs": [
    {
     "name": "stdout",
     "output_type": "stream",
     "text": [
      "Age: 27\n"
     ]
    }
   ],
   "source": [
    "age = 27\n",
    "# print(\"Age: \" + age)  # ❌ TypeError\n",
    "\n",
    "print(\"Age: \" + str(age))  # ✅ Output: Age: 27\n"
   ]
  },
  {
   "cell_type": "markdown",
   "id": "4cbe08d4-8382-4beb-b335-adb49e84bdb5",
   "metadata": {},
   "source": [
    "### 🧬 2. Using f-strings (Recommended in Python 3.6+)\n",
    "\n"
   ]
  },
  {
   "cell_type": "code",
   "execution_count": 15,
   "id": "c332b971-0638-44b3-a76f-fc6c0ff4479b",
   "metadata": {},
   "outputs": [
    {
     "name": "stdout",
     "output_type": "stream",
     "text": [
      "My name is Alice and I am 27 years old.\n"
     ]
    }
   ],
   "source": [
    "name = \"Alice\"\n",
    "age = 27\n",
    "\n",
    "intro = f\"My name is {name} and I am {age} years old.\"\n",
    "print(intro)\n"
   ]
  },
  {
   "cell_type": "markdown",
   "id": "296a4f6d-2d06-4012-afac-437c64b45ac7",
   "metadata": {},
   "source": [
    "## 🔁 3. Using join() Method"
   ]
  },
  {
   "cell_type": "code",
   "execution_count": 16,
   "id": "d35f28a9-280a-48a5-93dd-a428d0eea39b",
   "metadata": {},
   "outputs": [
    {
     "name": "stdout",
     "output_type": "stream",
     "text": [
      "Python is awesome\n"
     ]
    }
   ],
   "source": [
    "words = [\"Python\", \"is\", \"awesome\"]\n",
    "sentence = \" \".join(words)\n",
    "print(sentence)  # Output: Python is awesome\n"
   ]
  },
  {
   "cell_type": "code",
   "execution_count": null,
   "id": "85c6d0e1-2cd8-41ba-b60c-22c9a2393db0",
   "metadata": {},
   "outputs": [],
   "source": []
  }
 ],
 "metadata": {
  "kernelspec": {
   "display_name": "Python 3 (ipykernel)",
   "language": "python",
   "name": "python3"
  },
  "language_info": {
   "codemirror_mode": {
    "name": "ipython",
    "version": 3
   },
   "file_extension": ".py",
   "mimetype": "text/x-python",
   "name": "python",
   "nbconvert_exporter": "python",
   "pygments_lexer": "ipython3",
   "version": "3.13.2"
  }
 },
 "nbformat": 4,
 "nbformat_minor": 5
}
