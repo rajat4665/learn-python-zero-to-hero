{
 "cells": [
  {
   "cell_type": "markdown",
   "id": "2380c230-2c3a-41ae-97c0-9638846d78d3",
   "metadata": {},
   "source": [
    "# 🐍 Python OS and SYS Modules Tutorial for Beginners\n",
    "\n",
    "A practical guide to understanding and using the `os` and `sys` modules in Python, with real-world examples for scripting, file handling, and automation.\n",
    "\n",
    "---\n",
    "\n",
    "## 📦 What are Modules in Python?\n",
    "\n",
    "Modules in Python are files that contain Python code — functions, classes, and variables — that you can reuse in your programs. Python has a rich **standard library** full of built-in modules like `os`, `sys`, `math`, and `datetime`. You can also create your own modules or install third-party ones using `pip`.\n",
    "\n",
    "---\n",
    "\n",
    "## 🧩 What is the `os` Module?\n",
    "\n",
    "The `os` module in Python lets you interact with the operating system. It provides functions for **file and directory manipulation**, **accessing environment variables**, and **executing system commands**.\n",
    "\n",
    "---"
   ]
  },
  {
   "cell_type": "markdown",
   "id": "e8841755-b14d-4e52-927d-d646b4b4aab4",
   "metadata": {},
   "source": [
    "## ✅ 1. Getting the Current Working Directory\n"
   ]
  },
  {
   "cell_type": "code",
   "execution_count": 2,
   "id": "1cfa8725-7065-4744-b996-c626892c8be8",
   "metadata": {},
   "outputs": [
    {
     "name": "stdout",
     "output_type": "stream",
     "text": [
      "Current Working Directory: /Users/rajat/work/side_project/learn-python-zero-to-hero\n"
     ]
    }
   ],
   "source": [
    "# we use import keyword to import a module\n",
    "import os\n",
    "\n",
    "cwd = os.getcwd() # here the getcwd is an attribute od the os module class\n",
    "print(\"Current Working Directory:\", cwd)"
   ]
  },
  {
   "cell_type": "markdown",
   "id": "16b4d848-90d7-4676-b9f1-1c186348d126",
   "metadata": {},
   "source": [
    "## ✅ 2. Listing Files and Directories\n",
    "\n"
   ]
  },
  {
   "cell_type": "code",
   "execution_count": 3,
   "id": "8bca203e-e1ef-41a1-815f-80c3bb61e321",
   "metadata": {},
   "outputs": [
    {
     "name": "stdout",
     "output_type": "stream",
     "text": [
      "Files and Folders in Current Directory: ['04-python-for-while-loops-tutorial.ipynb', '06-python-file-handling-tutorial-beginners-guide.ipynb', '.DS_Store', '05-python-functional-programming-intro-advanced-guide.ipynb', '08-python-os-sys-modules-tutorial-for-beginners-file-system-and-scripting.ipynb', '07-python-exception-handling-tutorial-beginners-guide.ipynb', 'utility_files', '03-python-conditional-flow-control-if-elif-else.ipynb', 'README.md', '.gitignore', '01-python-basics-variables-data-types-structures.ipynb', '.ipynb_checkpoints', '02-python-list-dict-set-tuple-guide.ipynb', '.git']\n"
     ]
    }
   ],
   "source": [
    "files = os.listdir()\n",
    "\n",
    "print(\"Files and Folders in Current Directory:\", files)\n"
   ]
  },
  {
   "cell_type": "code",
   "execution_count": 6,
   "id": "601b94c3-cf92-47c6-b195-c85e03969295",
   "metadata": {},
   "outputs": [
    {
     "name": "stdout",
     "output_type": "stream",
     "text": [
      "['test_file_for_read_operation.txt']\n"
     ]
    }
   ],
   "source": [
    "# You can also list contents of a specific path:\n",
    "\n",
    "print(os.listdir(\"utility_files\"))\n"
   ]
  },
  {
   "cell_type": "markdown",
   "id": "ff759c98-c1d0-4f8a-8691-0e0bc907310c",
   "metadata": {},
   "source": [
    "## ✅ 3. Creating a New Directory and files"
   ]
  },
  {
   "cell_type": "code",
   "execution_count": 17,
   "id": "c007737d-ae2f-4260-8f60-e7e2e7117bb6",
   "metadata": {},
   "outputs": [
    {
     "name": "stdout",
     "output_type": "stream",
     "text": [
      ">>>> Folder created : True\n"
     ]
    }
   ],
   "source": [
    "# this will create new folter name test_folder\n",
    "os.mkdir(\"test_folder\")\n",
    "\n",
    "# now check if the folder created \n",
    "print(\">>>> Folder created :\" , os.path.exists(\"test_folder\"))"
   ]
  },
  {
   "cell_type": "code",
   "execution_count": 8,
   "id": "d80fda44-17ba-4558-95c5-82d5b1487103",
   "metadata": {},
   "outputs": [],
   "source": [
    "os.makedirs(\"parent_folder/child_folder\")\n"
   ]
  },
  {
   "cell_type": "code",
   "execution_count": 20,
   "id": "2b11ab17-3cd0-4380-9e3b-cc21b68bd172",
   "metadata": {},
   "outputs": [
    {
     "name": "stdout",
     "output_type": "stream",
     "text": [
      "File created: /Users/rajat/work/side_project/learn-python-zero-to-hero/example.txt\n"
     ]
    }
   ],
   "source": [
    "# Define the file path\n",
    "file_path = os.path.join(os.getcwd(), \"example.txt\")\n",
    "\n",
    "# Create the file (and write something into it)\n",
    "with open(file_path, \"w\") as f:\n",
    "    f.write(\"Hello, this file was created using os and open().\")\n",
    "\n",
    "print(\"File created:\", file_path)"
   ]
  },
  {
   "cell_type": "markdown",
   "id": "6eeb299b-d196-4e88-ac6b-eb2bd679f6f7",
   "metadata": {},
   "source": [
    "## ✅ 4. Renaming a File or Folder"
   ]
  },
  {
   "cell_type": "code",
   "execution_count": 22,
   "id": "c1cab44f-92dd-470f-b5d0-b82157c5ff92",
   "metadata": {},
   "outputs": [
    {
     "name": "stdout",
     "output_type": "stream",
     "text": [
      "✅ File 'new_name.txt' exists.\n"
     ]
    }
   ],
   "source": [
    "os.rename(\"example.txt\", \"new_name.txt\")\n",
    "if os.path.exists(\"new_name.txt\"):\n",
    "    print(f\"✅ File '{\"new_name.txt\"}' exists.\")"
   ]
  },
  {
   "cell_type": "markdown",
   "id": "7fe2ac2f-d1b6-488e-a385-20f1ffdb548c",
   "metadata": {},
   "source": [
    "## ✅ 5. Deleting a File or Directory"
   ]
  },
  {
   "cell_type": "code",
   "execution_count": 16,
   "id": "0a67a660-86dc-4545-8020-f1dff971f215",
   "metadata": {},
   "outputs": [],
   "source": [
    "os.remove(\"new_name.txt\")         # Deletes a file\n",
    "os.rmdir(\"test_folder\")            # Deletes an empty folder\n",
    "os.removedirs(\"parent_folder/child_folder\")    # Deletes nested empty folders\n"
   ]
  },
  {
   "cell_type": "markdown",
   "id": "1fb6ce08-6af7-4699-bb40-f2d2476d5d45",
   "metadata": {},
   "source": [
    "## 🧩 What is the `sys` Module?\n",
    "\n",
    "The `sys` module provides access to some variables and functions related to the Python interpreter itself. It’s useful for **command-line arguments**, **exiting scripts**, and **getting system info**.\n",
    "\n",
    "---\n",
    "\n"
   ]
  },
  {
   "cell_type": "markdown",
   "id": "00ba96ef-8e22-4f1a-b1e4-fcaab24de4f8",
   "metadata": {},
   "source": [
    "## ✅ 1. Get Python Version Info\n"
   ]
  },
  {
   "cell_type": "code",
   "execution_count": 27,
   "id": "a9e4e0a9-9f8d-4c04-b4d2-1c341c770ebc",
   "metadata": {},
   "outputs": [
    {
     "name": "stdout",
     "output_type": "stream",
     "text": [
      "Python version: 3.13.2 (main, Feb  4 2025, 14:51:09) [Clang 16.0.0 (clang-1600.0.26.6)]\n"
     ]
    }
   ],
   "source": [
    "import sys\n",
    "\n",
    "print(\"Python version:\", sys.version)\n"
   ]
  },
  {
   "cell_type": "markdown",
   "id": "8b37a121-2144-4cda-9790-2259176ce157",
   "metadata": {},
   "source": [
    "## ✅ 2. Print an Error Message to stderr"
   ]
  },
  {
   "cell_type": "code",
   "execution_count": 28,
   "id": "324c3174-5cbc-4803-b931-45a7e75b1b27",
   "metadata": {},
   "outputs": [
    {
     "name": "stdout",
     "output_type": "stream",
     "text": [
      "Normal output\n"
     ]
    },
    {
     "name": "stderr",
     "output_type": "stream",
     "text": [
      "This is an error!\n"
     ]
    }
   ],
   "source": [
    "import sys\n",
    "\n",
    "print(\"Normal output\")\n",
    "print(\"This is an error!\", file=sys.stderr)\n"
   ]
  },
  {
   "cell_type": "markdown",
   "id": "5eab105f-ea0e-41c8-b646-dd31748daea5",
   "metadata": {},
   "source": [
    "## ✅ 3. Get Python Executable Path"
   ]
  },
  {
   "cell_type": "code",
   "execution_count": 29,
   "id": "227dacc9-f7a1-4483-bf31-7366f6024e36",
   "metadata": {},
   "outputs": [
    {
     "name": "stdout",
     "output_type": "stream",
     "text": [
      "Python executable: /opt/homebrew/Cellar/jupyterlab/4.3.5/libexec/bin/python\n"
     ]
    }
   ],
   "source": [
    "import sys\n",
    "\n",
    "print(\"Python executable:\", sys.executable)\n"
   ]
  },
  {
   "cell_type": "code",
   "execution_count": 25,
   "id": "d4798c26-1d9b-4809-8255-1174a30d25ab",
   "metadata": {},
   "outputs": [],
   "source": [
    "\n",
    "if sys.version_info < (3, 8):\n",
    "    print(\"This script requires Python 3.8 or higher.\")\n",
    "    sys.exit(1)\n"
   ]
  }
 ],
 "metadata": {
  "kernelspec": {
   "display_name": "Python 3 (ipykernel)",
   "language": "python",
   "name": "python3"
  },
  "language_info": {
   "codemirror_mode": {
    "name": "ipython",
    "version": 3
   },
   "file_extension": ".py",
   "mimetype": "text/x-python",
   "name": "python",
   "nbconvert_exporter": "python",
   "pygments_lexer": "ipython3",
   "version": "3.13.2"
  }
 },
 "nbformat": 4,
 "nbformat_minor": 5
}
